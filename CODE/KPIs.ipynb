{
 "cells": [
  {
   "cell_type": "code",
   "execution_count": 0,
   "metadata": {
    "application/vnd.databricks.v1+cell": {
     "cellMetadata": {
      "byteLimit": 2048000,
      "rowLimit": 10000
     },
     "inputWidgets": {},
     "nuid": "ed10264c-872a-4920-a11f-2d7b8a49dd45",
     "showTitle": false,
     "tableResultSettingsMap": {},
     "title": ""
    }
   },
   "outputs": [
    {
     "output_type": "stream",
     "name": "stderr",
     "output_type": "stream",
     "text": [
      "/databricks/python/lib/python3.12/site-packages/pyspark/sql/connect/expressions.py:1117: UserWarning: WARN WindowExpression: No Partition Defined for Window operation! Moving all data to a single partition, this can cause serious performance degradation.\n  warnings.warn(\n"
     ]
    },
    {
     "output_type": "stream",
     "name": "stdout",
     "output_type": "stream",
     "text": [
      "✅ All 5 KPIs computed and saved to Gold + CSV:\n - /Volumes/workspace/data/bda_project/gold/kpi_daily\n - /Volumes/workspace/data/bda_project/gold/kpi_7day_txn\n - /Volumes/workspace/data/bda_project/gold/kpi_merchant_cat\n - /Volumes/workspace/data/bda_project/gold/kpi_city_international\n - /Volumes/workspace/data/bda_project/gold/kpi_top_cards\n"
     ]
    }
   ],
   "source": [
    "from pyspark.sql import functions as F\n",
    "from pyspark.sql.window import Window\n",
    "from pyspark.sql.types import DoubleType, IntegerType\n",
    "\n",
    "database = \"data\"  \n",
    "silver_path = \"/Volumes/workspace/data/bda_project/silver\"   \n",
    "gold_base = \"/Volumes/workspace/data/bda_project/gold\"     \n",
    "\n",
    "\n",
    "tx = spark.read.format(\"delta\").load(silver_path)\n",
    "\n",
    "\n",
    "tx = tx.withColumn(\"amount\", F.col(\"amount\").cast(DoubleType()))\n",
    "tx = tx.withColumn(\"event_date\", F.coalesce(F.to_date(\"event_date\"), F.to_date(\"event_time\")))\n",
    "\n",
    "\n",
    "kpi_daily = tx.groupBy(\"event_date\").agg(\n",
    "    F.count(\"*\").cast(IntegerType()).alias(\"txn_count\"),\n",
    "    F.sum(\"amount\").alias(\"txn_amount_total\"),\n",
    "    F.avg(\"amount\").alias(\"txn_amount_avg\"),\n",
    "    F.sum(F.when(F.col(\"label_fraud\") == True, 1).otherwise(0)).alias(\"fraud_count\"),\n",
    "    F.countDistinct(\"card_id\").alias(\"unique_cards\")\n",
    ").withColumn(\n",
    "    \"fraud_rate\",\n",
    "    F.when(F.col(\"txn_count\") == 0, F.lit(0.0))\n",
    "     .otherwise(F.col(\"fraud_count\") / F.col(\"txn_count\"))\n",
    ")\n",
    "\n",
    "\n",
    "kpi_daily_path = f\"{gold_base}/kpi_daily\"\n",
    "kpi_daily.write.format(\"delta\").mode(\"overwrite\").option(\"overwriteSchema\", \"true\").partitionBy(\"event_date\").save(kpi_daily_path)\n",
    "kpi_daily.coalesce(1).write.mode(\"overwrite\").option(\"header\", True).csv(f\"{gold_base}/csv/kpi_daily.csv\")\n",
    "\n",
    "\n",
    "w7 = Window.orderBy(F.col(\"event_date\").cast(\"timestamp\")).rowsBetween(-6, 0)\n",
    "kpi_daily_ordered = kpi_daily.select(\"event_date\", \"txn_count\").orderBy(\"event_date\")\n",
    "kpi_7day = kpi_daily_ordered.withColumn(\"txn_count_7d_sum\", F.sum(\"txn_count\").over(w7)) \\\n",
    "                            .withColumn(\"txn_count_7d_avg\", F.avg(\"txn_count\").over(w7))\n",
    "\n",
    "kpi_7day_path = f\"{gold_base}/kpi_7day_txn\"\n",
    "kpi_7day.write.format(\"delta\").mode(\"overwrite\").option(\"overwriteSchema\", \"true\").partitionBy(\"event_date\").save(kpi_7day_path)\n",
    "kpi_7day.coalesce(1).write.mode(\"overwrite\").option(\"header\", True).csv(f\"{gold_base}/csv/kpi_7day_txn.csv\")\n",
    "\n",
    "# -----------------------------------\n",
    "# KPI 3 — Merchant category performance\n",
    "# -----------------------------------\n",
    "kpi_merchant = tx.groupBy(\"merchant_cat\").agg(\n",
    "    F.count(\"*\").alias(\"txn_count\"),\n",
    "    F.avg(\"amount\").alias(\"avg_amount\"),\n",
    "    F.sum(F.when(F.col(\"label_fraud\"), 1).otherwise(0)).alias(\"fraud_count\"),\n",
    "    F.sum(F.when(F.col(\"is_contactless\"), 1).otherwise(0)).alias(\"contactless_count\"),\n",
    "    F.sum(F.when(F.col(\"is_chip\"), 1).otherwise(0)).alias(\"chip_count\")\n",
    ").withColumn(\n",
    "    \"fraud_rate\",\n",
    "    F.when(F.col(\"txn_count\") == 0, F.lit(0.0))\n",
    "     .otherwise(F.col(\"fraud_count\") / F.col(\"txn_count\"))\n",
    ").withColumn(\n",
    "    \"pct_contactless\",\n",
    "    F.when(F.col(\"txn_count\") == 0, F.lit(0.0))\n",
    "     .otherwise(F.col(\"contactless_count\") / F.col(\"txn_count\"))\n",
    ").withColumn(\n",
    "    \"pct_chip\",\n",
    "    F.when(F.col(\"txn_count\") == 0, F.lit(0.0))\n",
    "     .otherwise(F.col(\"chip_count\") / F.col(\"txn_count\"))\n",
    ")\n",
    "\n",
    "kpi_merchant_path = f\"{gold_base}/kpi_merchant_cat\"\n",
    "kpi_merchant.write.format(\"delta\").mode(\"overwrite\").option(\"overwriteSchema\", \"true\").save(kpi_merchant_path)\n",
    "kpi_merchant.coalesce(1).write.mode(\"overwrite\").option(\"header\", True).csv(f\"{gold_base}/csv/kpi_merchant_cat.csv\")\n",
    "\n",
    "# -----------------------------------\n",
    "# KPI 4 — City-level international exposure\n",
    "# -----------------------------------\n",
    "kpi_city = tx.groupBy(\"city\").agg(\n",
    "    F.count(\"*\").alias(\"txn_count\"),\n",
    "    F.sum(F.when(F.col(\"is_international\"), 1).otherwise(0)).alias(\"international_count\"),\n",
    "    F.avg(\"amount\").alias(\"avg_amount\"),\n",
    "    F.sum(F.when(F.col(\"label_fraud\"), 1).otherwise(0)).alias(\"fraud_count\")\n",
    ").withColumn(\n",
    "    \"pct_international\",\n",
    "    F.when(F.col(\"txn_count\") == 0, F.lit(0.0))\n",
    "     .otherwise(F.col(\"international_count\") / F.col(\"txn_count\"))\n",
    ").withColumn(\n",
    "    \"fraud_rate\",\n",
    "    F.when(F.col(\"txn_count\") == 0, F.lit(0.0))\n",
    "     .otherwise(F.col(\"fraud_count\") / F.col(\"txn_count\"))\n",
    ")\n",
    "\n",
    "kpi_city_path = f\"{gold_base}/kpi_city_international\"\n",
    "kpi_city.write.format(\"delta\").mode(\"overwrite\").option(\"overwriteSchema\", \"true\").save(kpi_city_path)\n",
    "kpi_city.coalesce(1).write.mode(\"overwrite\").option(\"header\", True).csv(f\"{gold_base}/csv/kpi_city_international.csv\")\n",
    "\n",
    "# -----------------------------------\n",
    "# KPI 5 — Top 10 cards by total transaction amount\n",
    "# -----------------------------------\n",
    "kpi_card = tx.groupBy(\"card_id\").agg(\n",
    "    F.count(\"*\").alias(\"txn_count\"),\n",
    "    F.sum(\"amount\").alias(\"txn_amount_total\"),\n",
    "    F.sum(F.when(F.col(\"label_fraud\"), 1).otherwise(0)).alias(\"fraud_count\")\n",
    ").withColumn(\n",
    "    \"fraud_rate\",\n",
    "    F.when(F.col(\"txn_count\") == 0, F.lit(0.0))\n",
    "     .otherwise(F.col(\"fraud_count\") / F.col(\"txn_count\"))\n",
    ")\n",
    "\n",
    "kpi_card_top10 = kpi_card.orderBy(F.col(\"txn_amount_total\").desc()).limit(10)\n",
    "kpi_card_path = f\"{gold_base}/kpi_top_cards\"\n",
    "kpi_card_top10.write.format(\"delta\").mode(\"overwrite\").option(\"overwriteSchema\", \"true\").save(kpi_card_path)\n",
    "kpi_card_top10.coalesce(1).write.mode(\"overwrite\").option(\"header\", True).csv(f\"{gold_base}/csv/kpi_top_cards.csv\")\n",
    "\n",
    "# -----------------------------------\n",
    "# ✅ Register in Unity Catalog (optional but recommended)\n",
    "# -----------------------------------\n",
    "# spark.sql(f\"CREATE DATABASE IF NOT EXISTS {database}\")\n",
    "# spark.sql(f\"CREATE TABLE IF NOT EXISTS {database}.kpi_daily USING DELTA LOCATION '{kpi_daily_path}'\")\n",
    "# spark.sql(f\"CREATE TABLE IF NOT EXISTS {database}.kpi_7day_txn USING DELTA LOCATION '{kpi_7day_path}'\")\n",
    "# spark.sql(f\"CREATE TABLE IF NOT EXISTS {database}.kpi_merchant_cat USING DELTA LOCATION '{kpi_merchant_path}'\")\n",
    "# spark.sql(f\"CREATE TABLE IF NOT EXISTS {database}.kpi_city_international USING DELTA LOCATION '{kpi_city_path}'\")\n",
    "# spark.sql(f\"CREATE TABLE IF NOT EXISTS {database}.kpi_top_cards USING DELTA LOCATION '{kpi_card_path}'\")\n",
    "\n",
    "# \uD83D\uDFE2 Done\n",
    "print(\"✅ All 5 KPIs computed and saved to Gold + CSV:\")\n",
    "print(f\" - {kpi_daily_path}\")\n",
    "print(f\" - {kpi_7day_path}\")\n",
    "print(f\" - {kpi_merchant_path}\")\n",
    "print(f\" - {kpi_city_path}\")\n",
    "print(f\" - {kpi_card_path}\")\n"
   ]
  },
  {
   "cell_type": "code",
   "execution_count": 0,
   "metadata": {
    "application/vnd.databricks.v1+cell": {
     "cellMetadata": {
      "byteLimit": 2048000,
      "rowLimit": 10000
     },
     "inputWidgets": {},
     "nuid": "757121c4-c9d1-4fff-ade9-893d8f197af1",
     "showTitle": false,
     "tableResultSettingsMap": {},
     "title": ""
    }
   },
   "outputs": [
    {
     "output_type": "display_data",
     "data": {
      "text/html": [
       "<style scoped>\n",
       "  .table-result-container {\n",
       "    max-height: 300px;\n",
       "    overflow: auto;\n",
       "  }\n",
       "  table, th, td {\n",
       "    border: 1px solid black;\n",
       "    border-collapse: collapse;\n",
       "  }\n",
       "  th, td {\n",
       "    padding: 5px;\n",
       "  }\n",
       "  th {\n",
       "    text-align: left;\n",
       "  }\n",
       "</style><div class='table-result-container'><table class='table-result'><thead style='background-color: white'><tr><th>event_date</th><th>txn_count</th><th>txn_amount_total</th><th>txn_amount_avg</th><th>fraud_count</th><th>unique_cards</th><th>fraud_rate</th></tr></thead><tbody><tr><td>2025-01-30</td><td>9206</td><td>15265.38766162729</td><td>1.6581998328945569</td><td>89</td><td>9206</td><td>0.009667608081685857</td></tr><tr><td>2025-01-08</td><td>8988</td><td>14957.368019464811</td><td>1.6641486448002683</td><td>86</td><td>8986</td><td>0.009568313306631064</td></tr><tr><td>2025-02-03</td><td>9031</td><td>14801.99406082301</td><td>1.6390204917310387</td><td>89</td><td>9031</td><td>0.009854944081497065</td></tr><tr><td>2025-02-22</td><td>7609</td><td>12543.962981502653</td><td>1.6485691919440995</td><td>61</td><td>7609</td><td>0.008016822184255487</td></tr><tr><td>2025-01-04</td><td>7446</td><td>12315.809037871815</td><td>1.6540167926231286</td><td>70</td><td>7445</td><td>0.009401020682245501</td></tr><tr><td>2025-02-12</td><td>9123</td><td>15317.508128858759</td><td>1.6789990276070108</td><td>74</td><td>9123</td><td>0.008111366874931492</td></tr><tr><td>2025-02-28</td><td>9089</td><td>14860.859125251229</td><td>1.635037861728598</td><td>88</td><td>9089</td><td>0.009682033226977665</td></tr><tr><td>2025-01-05</td><td>6929</td><td>11418.010286172654</td><td>1.647858318108335</td><td>63</td><td>6929</td><td>0.00909222109972579</td></tr><tr><td>2025-02-19</td><td>9010</td><td>14854.893203007621</td><td>1.6487117872372499</td><td>79</td><td>9010</td><td>0.00876803551609323</td></tr><tr><td>2025-01-10</td><td>9185</td><td>15091.076352499036</td><td>1.6430132120303795</td><td>81</td><td>9185</td><td>0.008818726183995646</td></tr><tr><td>2025-02-02</td><td>6710</td><td>11098.747916017583</td><td>1.6540607922529929</td><td>66</td><td>6710</td><td>0.009836065573770493</td></tr><tr><td>2025-02-04</td><td>9074</td><td>15336.749962656813</td><td>1.690186242302933</td><td>108</td><td>9074</td><td>0.011902137976636544</td></tr><tr><td>2025-02-25</td><td>9108</td><td>15271.465140973749</td><td>1.6767089526760814</td><td>84</td><td>9108</td><td>0.00922266139657444</td></tr><tr><td>2025-02-07</td><td>8762</td><td>14499.382494916288</td><td>1.6548028412367368</td><td>90</td><td>8762</td><td>0.010271627482309975</td></tr><tr><td>2025-01-29</td><td>8884</td><td>14483.598400518476</td><td>1.6303014858755602</td><td>98</td><td>8884</td><td>0.011031067086897793</td></tr><tr><td>2025-01-16</td><td>8962</td><td>14853.91175589629</td><td>1.657432688673989</td><td>96</td><td>8962</td><td>0.010711894666369114</td></tr><tr><td>2025-01-28</td><td>9026</td><td>15037.384951040714</td><td>1.6660076391580672</td><td>73</td><td>9025</td><td>0.008087746510081985</td></tr><tr><td>2025-01-01</td><td>6757</td><td>10862.080680550926</td><td>1.60753006963903</td><td>78</td><td>6757</td><td>0.011543584430960485</td></tr><tr><td>2025-02-21</td><td>9075</td><td>14987.474984727594</td><td>1.651512395011305</td><td>90</td><td>9075</td><td>0.009917355371900827</td></tr><tr><td>2025-02-15</td><td>7374</td><td>12033.056368153215</td><td>1.6318221274956897</td><td>78</td><td>7374</td><td>0.010577705451586655</td></tr><tr><td>2025-02-08</td><td>7587</td><td>12532.192989601383</td><td>1.6517982060895455</td><td>75</td><td>7586</td><td>0.009885330170027679</td></tr><tr><td>2025-01-07</td><td>9008</td><td>14865.079934714719</td><td>1.6502086961273</td><td>98</td><td>9008</td><td>0.010879218472468916</td></tr><tr><td>2025-01-24</td><td>8939</td><td>14755.524134529709</td><td>1.6506906963340093</td><td>82</td><td>8939</td><td>0.009173285602416377</td></tr><tr><td>2025-02-09</td><td>6873</td><td>11665.410703946709</td><td>1.6972807658877795</td><td>60</td><td>6872</td><td>0.008729812309035356</td></tr><tr><td>2025-01-18</td><td>7506</td><td>12442.492945472282</td><td>1.6576729210594567</td><td>101</td><td>7506</td><td>0.013455901945110578</td></tr><tr><td>2025-01-19</td><td>6651</td><td>10889.106454382667</td><td>1.6372134196936803</td><td>69</td><td>6651</td><td>0.010374379792512404</td></tr><tr><td>2025-02-14</td><td>8914</td><td>14733.94302220117</td><td>1.6528991498991665</td><td>92</td><td>8912</td><td>0.01032084361678259</td></tr><tr><td>2025-01-21</td><td>9112</td><td>15047.747942451866</td><td>1.6514209770030581</td><td>87</td><td>9111</td><td>0.009547848990342406</td></tr><tr><td>2025-02-26</td><td>8937</td><td>14898.176386847901</td><td>1.6670220864773304</td><td>88</td><td>8936</td><td>0.00984670471075305</td></tr><tr><td>2025-02-13</td><td>8969</td><td>14904.539722081308</td><td>1.6617838914127894</td><td>88</td><td>8969</td><td>0.00981157319656595</td></tr><tr><td>2025-01-09</td><td>8940</td><td>14928.789206128979</td><td>1.6698869358086106</td><td>91</td><td>8940</td><td>0.01017897091722595</td></tr><tr><td>2025-01-26</td><td>6649</td><td>10990.966022020226</td><td>1.6530254206678037</td><td>61</td><td>6649</td><td>0.009174311926605505</td></tr><tr><td>2025-02-01</td><td>7474</td><td>12234.306761257954</td><td>1.6369155420468229</td><td>66</td><td>7473</td><td>0.008830612791008831</td></tr><tr><td>2025-02-24</td><td>9136</td><td>15342.776243439697</td><td>1.6793756833887585</td><td>81</td><td>9136</td><td>0.008866024518388792</td></tr><tr><td>2025-02-10</td><td>8985</td><td>14908.508761079633</td><td>1.6592664174824299</td><td>92</td><td>8985</td><td>0.010239287701725098</td></tr><tr><td>2025-01-23</td><td>9113</td><td>15403.707391467184</td><td>1.6903003831303833</td><td>84</td><td>9113</td><td>0.009217601229013498</td></tr><tr><td>2025-01-20</td><td>9008</td><td>14700.369192446567</td><td>1.631923755822221</td><td>69</td><td>9008</td><td>0.007659857904085257</td></tr><tr><td>2025-01-27</td><td>9143</td><td>15160.932459576492</td><td>1.6582010783743293</td><td>93</td><td>9143</td><td>0.010171716066936454</td></tr><tr><td>2025-01-06</td><td>9218</td><td>15166.335149464066</td><td>1.645295633484928</td><td>108</td><td>9217</td><td>0.011716207420264699</td></tr><tr><td>2025-01-02</td><td>9052</td><td>14880.708953043912</td><td>1.6439139364829773</td><td>82</td><td>9051</td><td>0.009058771542200618</td></tr><tr><td>2025-01-31</td><td>8985</td><td>14864.659583787547</td><td>1.6543861528978905</td><td>96</td><td>8985</td><td>0.010684474123539232</td></tr><tr><td>2025-01-12</td><td>6672</td><td>11095.997743469838</td><td>1.6630692061555512</td><td>77</td><td>6672</td><td>0.011540767386091126</td></tr><tr><td>2025-02-27</td><td>9053</td><td>15004.107912680742</td><td>1.657363074415193</td><td>91</td><td>9052</td><td>0.010051916491770684</td></tr><tr><td>2025-02-06</td><td>8885</td><td>14831.38724335388</td><td>1.6692613667252538</td><td>78</td><td>8884</td><td>0.008778840742824985</td></tr><tr><td>2025-01-15</td><td>9240</td><td>15147.90696241566</td><td>1.6393838703913053</td><td>91</td><td>9240</td><td>0.009848484848484848</td></tr><tr><td>2025-02-11</td><td>9021</td><td>14749.587505516576</td><td>1.63502799085651</td><td>88</td><td>9021</td><td>0.009755016073606031</td></tr><tr><td>2025-01-17</td><td>9004</td><td>15221.525310588619</td><td>1.6905292437348531</td><td>81</td><td>9003</td><td>0.008996001776988005</td></tr><tr><td>2025-02-16</td><td>6788</td><td>11045.437427272274</td><td>1.6272005638291507</td><td>58</td><td>6787</td><td>0.00854449027695934</td></tr><tr><td>2025-01-13</td><td>8903</td><td>14524.6890633545</td><td>1.6314376124176684</td><td>78</td><td>8902</td><td>0.008761091766820174</td></tr><tr><td>2025-02-05</td><td>9094</td><td>15326.72800663545</td><td>1.685367055930883</td><td>81</td><td>9094</td><td>0.00890697162964592</td></tr><tr><td>2025-01-25</td><td>7452</td><td>12563.253634870065</td><td>1.6858901818129448</td><td>74</td><td>7452</td><td>0.009930220075147612</td></tr><tr><td>2025-02-23</td><td>6792</td><td>11329.80733163751</td><td>1.6681106200879727</td><td>53</td><td>6792</td><td>0.007803297997644287</td></tr><tr><td>2025-01-11</td><td>7456</td><td>12390.431165068869</td><td>1.661806754971683</td><td>70</td><td>7456</td><td>0.009388412017167383</td></tr><tr><td>2025-01-14</td><td>9210</td><td>15204.673339507599</td><td>1.6508874418575026</td><td>75</td><td>9210</td><td>0.008143322475570033</td></tr><tr><td>2025-01-03</td><td>9072</td><td>14851.738967612355</td><td>1.6370964470472174</td><td>84</td><td>9072</td><td>0.009259259259259259</td></tr><tr><td>2025-02-18</td><td>8914</td><td>14264.37581074541</td><td>1.600221652540432</td><td>77</td><td>8914</td><td>0.008638097374915863</td></tr><tr><td>2025-02-20</td><td>8909</td><td>14782.174677492814</td><td>1.6592406193167375</td><td>91</td><td>8909</td><td>0.010214389942754518</td></tr><tr><td>2025-01-22</td><td>9111</td><td>15204.211864230158</td><td>1.6687753116266224</td><td>102</td><td>9111</td><td>0.011195258478761936</td></tr><tr><td>2025-02-17</td><td>8877</td><td>14853.291912383113</td><td>1.673233289668031</td><td>81</td><td>8877</td><td>0.009124704291990537</td></tr></tbody></table></div>"
      ]
     },
     "metadata": {
      "application/vnd.databricks.v1+output": {
       "addedWidgets": {},
       "aggData": [],
       "aggError": "",
       "aggOverflow": false,
       "aggSchema": [],
       "aggSeriesLimitReached": false,
       "aggType": "",
       "arguments": {},
       "columnCustomDisplayInfos": {},
       "data": [
        [
         "2025-01-30",
         9206,
         15265.38766162729,
         1.6581998328945569,
         89,
         9206,
         0.009667608081685857
        ],
        [
         "2025-01-08",
         8988,
         14957.368019464811,
         1.6641486448002683,
         86,
         8986,
         0.009568313306631064
        ],
        [
         "2025-02-03",
         9031,
         14801.99406082301,
         1.6390204917310387,
         89,
         9031,
         0.009854944081497065
        ],
        [
         "2025-02-22",
         7609,
         12543.962981502653,
         1.6485691919440995,
         61,
         7609,
         0.008016822184255487
        ],
        [
         "2025-01-04",
         7446,
         12315.809037871815,
         1.6540167926231286,
         70,
         7445,
         0.009401020682245501
        ],
        [
         "2025-02-12",
         9123,
         15317.508128858759,
         1.6789990276070108,
         74,
         9123,
         0.008111366874931492
        ],
        [
         "2025-02-28",
         9089,
         14860.859125251229,
         1.635037861728598,
         88,
         9089,
         0.009682033226977665
        ],
        [
         "2025-01-05",
         6929,
         11418.010286172654,
         1.647858318108335,
         63,
         6929,
         0.00909222109972579
        ],
        [
         "2025-02-19",
         9010,
         14854.893203007621,
         1.6487117872372499,
         79,
         9010,
         0.00876803551609323
        ],
        [
         "2025-01-10",
         9185,
         15091.076352499036,
         1.6430132120303795,
         81,
         9185,
         0.008818726183995646
        ],
        [
         "2025-02-02",
         6710,
         11098.747916017583,
         1.6540607922529929,
         66,
         6710,
         0.009836065573770493
        ],
        [
         "2025-02-04",
         9074,
         15336.749962656813,
         1.690186242302933,
         108,
         9074,
         0.011902137976636544
        ],
        [
         "2025-02-25",
         9108,
         15271.465140973749,
         1.6767089526760814,
         84,
         9108,
         0.00922266139657444
        ],
        [
         "2025-02-07",
         8762,
         14499.382494916288,
         1.6548028412367368,
         90,
         8762,
         0.010271627482309975
        ],
        [
         "2025-01-29",
         8884,
         14483.598400518476,
         1.6303014858755602,
         98,
         8884,
         0.011031067086897793
        ],
        [
         "2025-01-16",
         8962,
         14853.91175589629,
         1.657432688673989,
         96,
         8962,
         0.010711894666369114
        ],
        [
         "2025-01-28",
         9026,
         15037.384951040714,
         1.6660076391580672,
         73,
         9025,
         0.008087746510081985
        ],
        [
         "2025-01-01",
         6757,
         10862.080680550926,
         1.60753006963903,
         78,
         6757,
         0.011543584430960485
        ],
        [
         "2025-02-21",
         9075,
         14987.474984727594,
         1.651512395011305,
         90,
         9075,
         0.009917355371900827
        ],
        [
         "2025-02-15",
         7374,
         12033.056368153215,
         1.6318221274956897,
         78,
         7374,
         0.010577705451586655
        ],
        [
         "2025-02-08",
         7587,
         12532.192989601383,
         1.6517982060895455,
         75,
         7586,
         0.009885330170027679
        ],
        [
         "2025-01-07",
         9008,
         14865.079934714719,
         1.6502086961273,
         98,
         9008,
         0.010879218472468916
        ],
        [
         "2025-01-24",
         8939,
         14755.524134529709,
         1.6506906963340093,
         82,
         8939,
         0.009173285602416377
        ],
        [
         "2025-02-09",
         6873,
         11665.410703946709,
         1.6972807658877795,
         60,
         6872,
         0.008729812309035356
        ],
        [
         "2025-01-18",
         7506,
         12442.492945472282,
         1.6576729210594567,
         101,
         7506,
         0.013455901945110578
        ],
        [
         "2025-01-19",
         6651,
         10889.106454382667,
         1.6372134196936803,
         69,
         6651,
         0.010374379792512404
        ],
        [
         "2025-02-14",
         8914,
         14733.94302220117,
         1.6528991498991665,
         92,
         8912,
         0.01032084361678259
        ],
        [
         "2025-01-21",
         9112,
         15047.747942451866,
         1.6514209770030581,
         87,
         9111,
         0.009547848990342406
        ],
        [
         "2025-02-26",
         8937,
         14898.176386847901,
         1.6670220864773304,
         88,
         8936,
         0.00984670471075305
        ],
        [
         "2025-02-13",
         8969,
         14904.539722081308,
         1.6617838914127894,
         88,
         8969,
         0.00981157319656595
        ],
        [
         "2025-01-09",
         8940,
         14928.789206128979,
         1.6698869358086106,
         91,
         8940,
         0.01017897091722595
        ],
        [
         "2025-01-26",
         6649,
         10990.966022020226,
         1.6530254206678037,
         61,
         6649,
         0.009174311926605505
        ],
        [
         "2025-02-01",
         7474,
         12234.306761257954,
         1.6369155420468229,
         66,
         7473,
         0.008830612791008831
        ],
        [
         "2025-02-24",
         9136,
         15342.776243439697,
         1.6793756833887585,
         81,
         9136,
         0.008866024518388792
        ],
        [
         "2025-02-10",
         8985,
         14908.508761079633,
         1.6592664174824299,
         92,
         8985,
         0.010239287701725098
        ],
        [
         "2025-01-23",
         9113,
         15403.707391467184,
         1.6903003831303833,
         84,
         9113,
         0.009217601229013498
        ],
        [
         "2025-01-20",
         9008,
         14700.369192446567,
         1.631923755822221,
         69,
         9008,
         0.007659857904085257
        ],
        [
         "2025-01-27",
         9143,
         15160.932459576492,
         1.6582010783743293,
         93,
         9143,
         0.010171716066936454
        ],
        [
         "2025-01-06",
         9218,
         15166.335149464066,
         1.645295633484928,
         108,
         9217,
         0.011716207420264699
        ],
        [
         "2025-01-02",
         9052,
         14880.708953043912,
         1.6439139364829773,
         82,
         9051,
         0.009058771542200618
        ],
        [
         "2025-01-31",
         8985,
         14864.659583787547,
         1.6543861528978905,
         96,
         8985,
         0.010684474123539232
        ],
        [
         "2025-01-12",
         6672,
         11095.997743469838,
         1.6630692061555512,
         77,
         6672,
         0.011540767386091126
        ],
        [
         "2025-02-27",
         9053,
         15004.107912680742,
         1.657363074415193,
         91,
         9052,
         0.010051916491770684
        ],
        [
         "2025-02-06",
         8885,
         14831.38724335388,
         1.6692613667252538,
         78,
         8884,
         0.008778840742824985
        ],
        [
         "2025-01-15",
         9240,
         15147.90696241566,
         1.6393838703913053,
         91,
         9240,
         0.009848484848484848
        ],
        [
         "2025-02-11",
         9021,
         14749.587505516576,
         1.63502799085651,
         88,
         9021,
         0.009755016073606031
        ],
        [
         "2025-01-17",
         9004,
         15221.525310588619,
         1.6905292437348531,
         81,
         9003,
         0.008996001776988005
        ],
        [
         "2025-02-16",
         6788,
         11045.437427272274,
         1.6272005638291507,
         58,
         6787,
         0.00854449027695934
        ],
        [
         "2025-01-13",
         8903,
         14524.6890633545,
         1.6314376124176684,
         78,
         8902,
         0.008761091766820174
        ],
        [
         "2025-02-05",
         9094,
         15326.72800663545,
         1.685367055930883,
         81,
         9094,
         0.00890697162964592
        ],
        [
         "2025-01-25",
         7452,
         12563.253634870065,
         1.6858901818129448,
         74,
         7452,
         0.009930220075147612
        ],
        [
         "2025-02-23",
         6792,
         11329.80733163751,
         1.6681106200879727,
         53,
         6792,
         0.007803297997644287
        ],
        [
         "2025-01-11",
         7456,
         12390.431165068869,
         1.661806754971683,
         70,
         7456,
         0.009388412017167383
        ],
        [
         "2025-01-14",
         9210,
         15204.673339507599,
         1.6508874418575026,
         75,
         9210,
         0.008143322475570033
        ],
        [
         "2025-01-03",
         9072,
         14851.738967612355,
         1.6370964470472174,
         84,
         9072,
         0.009259259259259259
        ],
        [
         "2025-02-18",
         8914,
         14264.37581074541,
         1.600221652540432,
         77,
         8914,
         0.008638097374915863
        ],
        [
         "2025-02-20",
         8909,
         14782.174677492814,
         1.6592406193167375,
         91,
         8909,
         0.010214389942754518
        ],
        [
         "2025-01-22",
         9111,
         15204.211864230158,
         1.6687753116266224,
         102,
         9111,
         0.011195258478761936
        ],
        [
         "2025-02-17",
         8877,
         14853.291912383113,
         1.673233289668031,
         81,
         8877,
         0.009124704291990537
        ]
       ],
       "datasetInfos": [],
       "dbfsResultPath": null,
       "isJsonSchema": true,
       "metadata": {},
       "overflow": false,
       "plotOptions": {
        "customPlotOptions": {},
        "displayType": "table",
        "pivotAggregation": null,
        "pivotColumns": null,
        "xColumns": null,
        "yColumns": null
       },
       "removedWidgets": [],
       "schema": [
        {
         "metadata": "{\"__detected_date_formats\": \"yyyy-M-d\"}",
         "name": "event_date",
         "type": "\"date\""
        },
        {
         "metadata": "{}",
         "name": "txn_count",
         "type": "\"integer\""
        },
        {
         "metadata": "{}",
         "name": "txn_amount_total",
         "type": "\"double\""
        },
        {
         "metadata": "{}",
         "name": "txn_amount_avg",
         "type": "\"double\""
        },
        {
         "metadata": "{}",
         "name": "fraud_count",
         "type": "\"integer\""
        },
        {
         "metadata": "{}",
         "name": "unique_cards",
         "type": "\"integer\""
        },
        {
         "metadata": "{}",
         "name": "fraud_rate",
         "type": "\"double\""
        }
       ],
       "type": "table"
      }
     },
     "output_type": "display_data"
    },
    {
     "output_type": "display_data",
     "data": {
      "text/plain": [
       "Databricks visualization. Run in Databricks to view."
      ]
     },
     "metadata": {
      "application/vnd.databricks.v1.subcommand+json": {
       "baseErrorDetails": null,
       "bindings": {},
       "collapsed": false,
       "command": "%python\n__backend_agg_display_orig = display\n__backend_agg_dfs = []\ndef __backend_agg_display_new(df):\n    __backend_agg_df_modules = [\"pandas.core.frame\", \"databricks.koalas.frame\", \"pyspark.sql.dataframe\", \"pyspark.pandas.frame\", \"pyspark.sql.connect.dataframe\"]\n    if (type(df).__module__ in __backend_agg_df_modules and type(df).__name__ == 'DataFrame') or isinstance(df, list):\n        __backend_agg_dfs.append(df)\n\ndisplay = __backend_agg_display_new\n\ndef __backend_agg_user_code_fn():\n    import base64\n    exec(base64.standard_b64decode(\"a3BpX2RhaWx5X2RmID0gc3BhcmsucmVhZC5jc3YoCiAgICAiL1ZvbHVtZXMvd29ya3NwYWNlL2RhdGEvYmRhX3Byb2plY3QvZ29sZC9jc3Yva3BpX2RhaWx5LmNzdiIsICAjIHBhdGggdG8gdGhlIGZvbGRlcgogICAgaGVhZGVyPVRydWUsICAgICAgICAgICAgICAgICAgICAgICAgICAjIHVzZSB0aGUgZmlyc3Qgcm93IGFzIGNvbHVtbiBuYW1lcwogICAgaW5mZXJTY2hlbWE9VHJ1ZSAgICAgICAgICAgICAgICAgICAgICAgIyBhdXRvbWF0aWNhbGx5IGRldGVjdCBkYXRhIHR5cGVzCikKZGlzcGxheShrcGlfZGFpbHlfZGYpCg==\").decode())\n\ntry:\n    # run user code\n    __backend_agg_user_code_fn()\n\n    #reset display function\n    display = __backend_agg_display_orig\n\n    if len(__backend_agg_dfs) > 0:\n        # create a temp view\n        if type(__backend_agg_dfs[0]).__module__ == \"databricks.koalas.frame\":\n            # koalas dataframe\n            __backend_agg_dfs[0].to_spark().createOrReplaceTempView(\"DatabricksViewa1cbbcf\")\n        elif type(__backend_agg_dfs[0]).__module__ == \"pandas.core.frame\" or isinstance(__backend_agg_dfs[0], list):\n            # pandas dataframe\n            spark.createDataFrame(__backend_agg_dfs[0]).createOrReplaceTempView(\"DatabricksViewa1cbbcf\")\n        else:\n            __backend_agg_dfs[0].createOrReplaceTempView(\"DatabricksViewa1cbbcf\")\n        #run backend agg\n        display(spark.sql(\"\"\"WITH q AS (select * from DatabricksViewa1cbbcf) SELECT `event_date`,SUM(`txn_amount_total`) `column_2185d12e694` FROM q GROUP BY `event_date`\"\"\"))\n    else:\n        displayHTML(\"dataframe no longer exists. If you're using dataframe.display(), use display(dataframe) instead.\")\n\n\nfinally:\n    spark.sql(\"drop view if exists DatabricksViewa1cbbcf\")\n    display = __backend_agg_display_orig\n    del __backend_agg_display_new\n    del __backend_agg_display_orig\n    del __backend_agg_dfs\n    del __backend_agg_user_code_fn\n\n",
       "commandTitle": "Visualization 1",
       "commandType": "auto",
       "commandVersion": 0,
       "commentThread": [],
       "commentsVisible": false,
       "contentSha256Hex": null,
       "customPlotOptions": {
        "redashChart": [
         {
          "key": "type",
          "value": "CHART"
         },
         {
          "key": "options",
          "value": {
           "alignYAxesAtZero": true,
           "coefficient": 1,
           "columnConfigurationMap": {
            "x": {
             "column": "event_date",
             "id": "column_2185d12e691"
            },
            "y": [
             {
              "column": "txn_count",
              "id": "column_2185d12e694",
              "transform": "AVG"
             },
             {
              "column": "txn_amount_total",
              "id": "column_2185d12e728",
              "transform": "SUM"
             }
            ]
           },
           "dateTimeFormat": "DD/MM/YYYY HH:mm",
           "direction": {
            "type": "counterclockwise"
           },
           "error_y": {
            "type": "data",
            "visible": true
           },
           "globalSeriesType": "line",
           "isAggregationOn": true,
           "legend": {
            "traceorder": "normal"
           },
           "missingValuesAsZero": true,
           "numberFormat": "0,0.[00000]",
           "percentFormat": "0[.]00%",
           "series": {
            "error_y": {
             "type": "data",
             "visible": true
            },
            "stacking": null
           },
           "seriesOptions": {
            "column_2185d12e694": {
             "type": "line",
             "yAxis": 0
            },
            "column_2185d12e725": {
             "type": "line",
             "yAxis": 0
            },
            "column_2185d12e728": {
             "type": "line",
             "yAxis": 0
            }
           },
           "showDataLabels": false,
           "sizemode": "diameter",
           "sortX": true,
           "sortY": true,
           "swappedAxes": false,
           "textFormat": "",
           "useAggregationsUi": true,
           "valuesOptions": {},
           "version": 2,
           "xAxis": {
            "labels": {
             "enabled": true
            },
            "type": "-"
           },
           "yAxis": [
            {
             "type": "-"
            },
            {
             "opposite": true,
             "type": "-"
            }
           ]
          }
         }
        ]
       },
       "datasetPreviewNameToCmdIdMap": {},
       "diffDeletes": [],
       "diffInserts": [],
       "displayType": "redashChart",
       "error": null,
       "errorDetails": null,
       "errorSummary": null,
       "errorTraceType": null,
       "finishTime": 0,
       "globalVars": {},
       "guid": "",
       "height": "auto",
       "hideCommandCode": false,
       "hideCommandResult": false,
       "iPythonMetadata": null,
       "inputWidgets": {},
       "isLockedInExamMode": false,
       "latestAssumeRoleInfo": null,
       "latestUser": "a user",
       "latestUserId": null,
       "listResultMetadata": null,
       "metadata": {},
       "nuid": "3885e235-d3e9-4923-926e-b9386190ba36",
       "origId": 0,
       "parentHierarchy": [],
       "pivotAggregation": null,
       "pivotColumns": null,
       "position": 4.0,
       "resultDbfsErrorMessage": null,
       "resultDbfsStatus": "INLINED_IN_TREE",
       "results": null,
       "showCommandTitle": false,
       "startTime": 0,
       "state": "input",
       "streamStates": {},
       "subcommandOptions": {
        "queryPlan": {
         "groups": [
          {
           "column": "event_date",
           "type": "column"
          }
         ],
         "selects": [
          {
           "column": "event_date",
           "type": "column"
          },
          {
           "alias": "column_2185d12e694",
           "args": [
            {
             "column": "txn_count",
             "type": "column"
            }
           ],
           "function": "AVG",
           "type": "function"
          },
          {
           "alias": "column_2185d12e728",
           "args": [
            {
             "column": "txn_amount_total",
             "type": "column"
            }
           ],
           "function": "SUM",
           "type": "function"
          }
         ]
        }
       },
       "submitTime": 0,
       "subtype": "tableResultSubCmd.visualization",
       "tableResultIndex": 0,
       "tableResultSettingsMap": {},
       "useConsistentColors": false,
       "version": "CommandV1",
       "width": "auto",
       "workflows": [],
       "xColumns": null,
       "yColumns": null
      }
     },
     "output_type": "display_data"
    }
   ],
   "source": [
    "kpi_daily_df = spark.read.csv(\n",
    "    \"/Volumes/workspace/data/bda_project/gold/csv/kpi_daily.csv\",  # path to the folder\n",
    "    header=True,                          # use the first row as column names\n",
    "    inferSchema=True                       # automatically detect data types\n",
    ")\n",
    "display(kpi_daily_df)\n"
   ]
  },
  {
   "cell_type": "code",
   "execution_count": 0,
   "metadata": {
    "application/vnd.databricks.v1+cell": {
     "cellMetadata": {
      "byteLimit": 2048000,
      "rowLimit": 10000
     },
     "inputWidgets": {},
     "nuid": "33b6e4e8-3182-46ca-8e6a-ef9a52264ba7",
     "showTitle": false,
     "tableResultSettingsMap": {},
     "title": ""
    }
   },
   "outputs": [
    {
     "output_type": "display_data",
     "data": {
      "text/html": [
       "<style scoped>\n",
       "  .table-result-container {\n",
       "    max-height: 300px;\n",
       "    overflow: auto;\n",
       "  }\n",
       "  table, th, td {\n",
       "    border: 1px solid black;\n",
       "    border-collapse: collapse;\n",
       "  }\n",
       "  th, td {\n",
       "    padding: 5px;\n",
       "  }\n",
       "  th {\n",
       "    text-align: left;\n",
       "  }\n",
       "</style><div class='table-result-container'><table class='table-result'><thead style='background-color: white'><tr><th>event_date</th><th>txn_count</th><th>txn_count_7d_sum</th><th>txn_count_7d_avg</th></tr></thead><tbody><tr><td>2025-01-01</td><td>6757</td><td>6757</td><td>6757.0</td></tr><tr><td>2025-01-02</td><td>9052</td><td>15809</td><td>7904.5</td></tr><tr><td>2025-01-03</td><td>9072</td><td>24881</td><td>8293.666666666666</td></tr><tr><td>2025-01-04</td><td>7446</td><td>32327</td><td>8081.75</td></tr><tr><td>2025-01-05</td><td>6929</td><td>39256</td><td>7851.2</td></tr><tr><td>2025-01-06</td><td>9218</td><td>48474</td><td>8079.0</td></tr><tr><td>2025-01-07</td><td>9008</td><td>57482</td><td>8211.714285714286</td></tr><tr><td>2025-01-08</td><td>8988</td><td>59713</td><td>8530.42857142857</td></tr><tr><td>2025-01-09</td><td>8940</td><td>59601</td><td>8514.42857142857</td></tr><tr><td>2025-01-10</td><td>9185</td><td>59714</td><td>8530.57142857143</td></tr><tr><td>2025-01-11</td><td>7456</td><td>59724</td><td>8532.0</td></tr><tr><td>2025-01-12</td><td>6672</td><td>59467</td><td>8495.285714285714</td></tr><tr><td>2025-01-13</td><td>8903</td><td>59152</td><td>8450.285714285714</td></tr><tr><td>2025-01-14</td><td>9210</td><td>59354</td><td>8479.142857142857</td></tr><tr><td>2025-01-15</td><td>9240</td><td>59606</td><td>8515.142857142857</td></tr><tr><td>2025-01-16</td><td>8962</td><td>59628</td><td>8518.285714285714</td></tr><tr><td>2025-01-17</td><td>9004</td><td>59447</td><td>8492.42857142857</td></tr><tr><td>2025-01-18</td><td>7506</td><td>59497</td><td>8499.57142857143</td></tr><tr><td>2025-01-19</td><td>6651</td><td>59476</td><td>8496.57142857143</td></tr><tr><td>2025-01-20</td><td>9008</td><td>59581</td><td>8511.57142857143</td></tr><tr><td>2025-01-21</td><td>9112</td><td>59483</td><td>8497.57142857143</td></tr><tr><td>2025-01-22</td><td>9111</td><td>59354</td><td>8479.142857142857</td></tr><tr><td>2025-01-23</td><td>9113</td><td>59505</td><td>8500.714285714286</td></tr><tr><td>2025-01-24</td><td>8939</td><td>59440</td><td>8491.42857142857</td></tr><tr><td>2025-01-25</td><td>7452</td><td>59386</td><td>8483.714285714286</td></tr><tr><td>2025-01-26</td><td>6649</td><td>59384</td><td>8483.42857142857</td></tr><tr><td>2025-01-27</td><td>9143</td><td>59519</td><td>8502.714285714286</td></tr><tr><td>2025-01-28</td><td>9026</td><td>59433</td><td>8490.42857142857</td></tr><tr><td>2025-01-29</td><td>8884</td><td>59206</td><td>8458.0</td></tr><tr><td>2025-01-30</td><td>9206</td><td>59299</td><td>8471.285714285714</td></tr><tr><td>2025-01-31</td><td>8985</td><td>59345</td><td>8477.857142857143</td></tr><tr><td>2025-02-01</td><td>7474</td><td>59367</td><td>8481.0</td></tr><tr><td>2025-02-02</td><td>6710</td><td>59428</td><td>8489.714285714286</td></tr><tr><td>2025-02-03</td><td>9031</td><td>59316</td><td>8473.714285714286</td></tr><tr><td>2025-02-04</td><td>9074</td><td>59364</td><td>8480.57142857143</td></tr><tr><td>2025-02-05</td><td>9094</td><td>59574</td><td>8510.57142857143</td></tr><tr><td>2025-02-06</td><td>8885</td><td>59253</td><td>8464.714285714286</td></tr><tr><td>2025-02-07</td><td>8762</td><td>59030</td><td>8432.857142857143</td></tr><tr><td>2025-02-08</td><td>7587</td><td>59143</td><td>8449.0</td></tr><tr><td>2025-02-09</td><td>6873</td><td>59306</td><td>8472.285714285714</td></tr><tr><td>2025-02-10</td><td>8985</td><td>59260</td><td>8465.714285714286</td></tr><tr><td>2025-02-11</td><td>9021</td><td>59207</td><td>8458.142857142857</td></tr><tr><td>2025-02-12</td><td>9123</td><td>59236</td><td>8462.285714285714</td></tr><tr><td>2025-02-13</td><td>8969</td><td>59320</td><td>8474.285714285714</td></tr><tr><td>2025-02-14</td><td>8914</td><td>59472</td><td>8496.0</td></tr><tr><td>2025-02-15</td><td>7374</td><td>59259</td><td>8465.57142857143</td></tr><tr><td>2025-02-16</td><td>6788</td><td>59174</td><td>8453.42857142857</td></tr><tr><td>2025-02-17</td><td>8877</td><td>59066</td><td>8438.0</td></tr><tr><td>2025-02-18</td><td>8914</td><td>58959</td><td>8422.714285714286</td></tr><tr><td>2025-02-19</td><td>9010</td><td>58846</td><td>8406.57142857143</td></tr><tr><td>2025-02-20</td><td>8909</td><td>58786</td><td>8398.0</td></tr><tr><td>2025-02-21</td><td>9075</td><td>58947</td><td>8421.0</td></tr><tr><td>2025-02-22</td><td>7609</td><td>59182</td><td>8454.57142857143</td></tr><tr><td>2025-02-23</td><td>6792</td><td>59186</td><td>8455.142857142857</td></tr><tr><td>2025-02-24</td><td>9136</td><td>59445</td><td>8492.142857142857</td></tr><tr><td>2025-02-25</td><td>9108</td><td>59639</td><td>8519.857142857143</td></tr><tr><td>2025-02-26</td><td>8937</td><td>59566</td><td>8509.42857142857</td></tr><tr><td>2025-02-27</td><td>9053</td><td>59710</td><td>8530.0</td></tr><tr><td>2025-02-28</td><td>9089</td><td>59724</td><td>8532.0</td></tr></tbody></table></div>"
      ]
     },
     "metadata": {
      "application/vnd.databricks.v1+output": {
       "addedWidgets": {},
       "aggData": [],
       "aggError": "",
       "aggOverflow": false,
       "aggSchema": [],
       "aggSeriesLimitReached": false,
       "aggType": "",
       "arguments": {},
       "columnCustomDisplayInfos": {},
       "data": [
        [
         "2025-01-01",
         6757,
         6757,
         6757.0
        ],
        [
         "2025-01-02",
         9052,
         15809,
         7904.5
        ],
        [
         "2025-01-03",
         9072,
         24881,
         8293.666666666666
        ],
        [
         "2025-01-04",
         7446,
         32327,
         8081.75
        ],
        [
         "2025-01-05",
         6929,
         39256,
         7851.2
        ],
        [
         "2025-01-06",
         9218,
         48474,
         8079.0
        ],
        [
         "2025-01-07",
         9008,
         57482,
         8211.714285714286
        ],
        [
         "2025-01-08",
         8988,
         59713,
         8530.42857142857
        ],
        [
         "2025-01-09",
         8940,
         59601,
         8514.42857142857
        ],
        [
         "2025-01-10",
         9185,
         59714,
         8530.57142857143
        ],
        [
         "2025-01-11",
         7456,
         59724,
         8532.0
        ],
        [
         "2025-01-12",
         6672,
         59467,
         8495.285714285714
        ],
        [
         "2025-01-13",
         8903,
         59152,
         8450.285714285714
        ],
        [
         "2025-01-14",
         9210,
         59354,
         8479.142857142857
        ],
        [
         "2025-01-15",
         9240,
         59606,
         8515.142857142857
        ],
        [
         "2025-01-16",
         8962,
         59628,
         8518.285714285714
        ],
        [
         "2025-01-17",
         9004,
         59447,
         8492.42857142857
        ],
        [
         "2025-01-18",
         7506,
         59497,
         8499.57142857143
        ],
        [
         "2025-01-19",
         6651,
         59476,
         8496.57142857143
        ],
        [
         "2025-01-20",
         9008,
         59581,
         8511.57142857143
        ],
        [
         "2025-01-21",
         9112,
         59483,
         8497.57142857143
        ],
        [
         "2025-01-22",
         9111,
         59354,
         8479.142857142857
        ],
        [
         "2025-01-23",
         9113,
         59505,
         8500.714285714286
        ],
        [
         "2025-01-24",
         8939,
         59440,
         8491.42857142857
        ],
        [
         "2025-01-25",
         7452,
         59386,
         8483.714285714286
        ],
        [
         "2025-01-26",
         6649,
         59384,
         8483.42857142857
        ],
        [
         "2025-01-27",
         9143,
         59519,
         8502.714285714286
        ],
        [
         "2025-01-28",
         9026,
         59433,
         8490.42857142857
        ],
        [
         "2025-01-29",
         8884,
         59206,
         8458.0
        ],
        [
         "2025-01-30",
         9206,
         59299,
         8471.285714285714
        ],
        [
         "2025-01-31",
         8985,
         59345,
         8477.857142857143
        ],
        [
         "2025-02-01",
         7474,
         59367,
         8481.0
        ],
        [
         "2025-02-02",
         6710,
         59428,
         8489.714285714286
        ],
        [
         "2025-02-03",
         9031,
         59316,
         8473.714285714286
        ],
        [
         "2025-02-04",
         9074,
         59364,
         8480.57142857143
        ],
        [
         "2025-02-05",
         9094,
         59574,
         8510.57142857143
        ],
        [
         "2025-02-06",
         8885,
         59253,
         8464.714285714286
        ],
        [
         "2025-02-07",
         8762,
         59030,
         8432.857142857143
        ],
        [
         "2025-02-08",
         7587,
         59143,
         8449.0
        ],
        [
         "2025-02-09",
         6873,
         59306,
         8472.285714285714
        ],
        [
         "2025-02-10",
         8985,
         59260,
         8465.714285714286
        ],
        [
         "2025-02-11",
         9021,
         59207,
         8458.142857142857
        ],
        [
         "2025-02-12",
         9123,
         59236,
         8462.285714285714
        ],
        [
         "2025-02-13",
         8969,
         59320,
         8474.285714285714
        ],
        [
         "2025-02-14",
         8914,
         59472,
         8496.0
        ],
        [
         "2025-02-15",
         7374,
         59259,
         8465.57142857143
        ],
        [
         "2025-02-16",
         6788,
         59174,
         8453.42857142857
        ],
        [
         "2025-02-17",
         8877,
         59066,
         8438.0
        ],
        [
         "2025-02-18",
         8914,
         58959,
         8422.714285714286
        ],
        [
         "2025-02-19",
         9010,
         58846,
         8406.57142857143
        ],
        [
         "2025-02-20",
         8909,
         58786,
         8398.0
        ],
        [
         "2025-02-21",
         9075,
         58947,
         8421.0
        ],
        [
         "2025-02-22",
         7609,
         59182,
         8454.57142857143
        ],
        [
         "2025-02-23",
         6792,
         59186,
         8455.142857142857
        ],
        [
         "2025-02-24",
         9136,
         59445,
         8492.142857142857
        ],
        [
         "2025-02-25",
         9108,
         59639,
         8519.857142857143
        ],
        [
         "2025-02-26",
         8937,
         59566,
         8509.42857142857
        ],
        [
         "2025-02-27",
         9053,
         59710,
         8530.0
        ],
        [
         "2025-02-28",
         9089,
         59724,
         8532.0
        ]
       ],
       "datasetInfos": [],
       "dbfsResultPath": null,
       "isJsonSchema": true,
       "metadata": {},
       "overflow": false,
       "plotOptions": {
        "customPlotOptions": {},
        "displayType": "table",
        "pivotAggregation": null,
        "pivotColumns": null,
        "xColumns": null,
        "yColumns": null
       },
       "removedWidgets": [],
       "schema": [
        {
         "metadata": "{\"__detected_date_formats\": \"yyyy-M-d\"}",
         "name": "event_date",
         "type": "\"date\""
        },
        {
         "metadata": "{}",
         "name": "txn_count",
         "type": "\"integer\""
        },
        {
         "metadata": "{}",
         "name": "txn_count_7d_sum",
         "type": "\"integer\""
        },
        {
         "metadata": "{}",
         "name": "txn_count_7d_avg",
         "type": "\"double\""
        }
       ],
       "type": "table"
      }
     },
     "output_type": "display_data"
    },
    {
     "output_type": "display_data",
     "data": {
      "text/plain": [
       "Databricks visualization. Run in Databricks to view."
      ]
     },
     "metadata": {
      "application/vnd.databricks.v1.subcommand+json": {
       "baseErrorDetails": null,
       "bindings": {},
       "collapsed": false,
       "command": "%python\n__backend_agg_display_orig = display\n__backend_agg_dfs = []\ndef __backend_agg_display_new(df):\n    __backend_agg_df_modules = [\"pandas.core.frame\", \"databricks.koalas.frame\", \"pyspark.sql.dataframe\", \"pyspark.pandas.frame\", \"pyspark.sql.connect.dataframe\"]\n    if (type(df).__module__ in __backend_agg_df_modules and type(df).__name__ == 'DataFrame') or isinstance(df, list):\n        __backend_agg_dfs.append(df)\n\ndisplay = __backend_agg_display_new\n\ndef __backend_agg_user_code_fn():\n    import base64\n    exec(base64.standard_b64decode(\"a3BpXzdkYXlfZGYgPSBzcGFyay5yZWFkLmNzdigKICAgICIvVm9sdW1lcy93b3Jrc3BhY2UvZGF0YS9iZGFfcHJvamVjdC9nb2xkL2Nzdi9rcGlfN2RheV90eG4uY3N2LyIsICAjIHBhdGggdG8gdGhlIGZvbGRlcgogICAgaGVhZGVyPVRydWUsICAgICAgICAgICAgICAgICAgICAgICAgICAjIHVzZSB0aGUgZmlyc3Qgcm93IGFzIGNvbHVtbiBuYW1lcwogICAgaW5mZXJTY2hlbWE9VHJ1ZSAgICAgICAgICAgICAgICAgICAgICAgIyBhdXRvbWF0aWNhbGx5IGRldGVjdCBkYXRhIHR5cGVzCikKZGlzcGxheShrcGlfN2RheV9kZikK\").decode())\n\ntry:\n    # run user code\n    __backend_agg_user_code_fn()\n\n    #reset display function\n    display = __backend_agg_display_orig\n\n    if len(__backend_agg_dfs) > 0:\n        # create a temp view\n        if type(__backend_agg_dfs[0]).__module__ == \"databricks.koalas.frame\":\n            # koalas dataframe\n            __backend_agg_dfs[0].to_spark().createOrReplaceTempView(\"DatabricksView339fbbd\")\n        elif type(__backend_agg_dfs[0]).__module__ == \"pandas.core.frame\" or isinstance(__backend_agg_dfs[0], list):\n            # pandas dataframe\n            spark.createDataFrame(__backend_agg_dfs[0]).createOrReplaceTempView(\"DatabricksView339fbbd\")\n        else:\n            __backend_agg_dfs[0].createOrReplaceTempView(\"DatabricksView339fbbd\")\n        #run backend agg\n        display(spark.sql(\"\"\"WITH q AS (select * from DatabricksView339fbbd) SELECT `event_date`,SUM(`txn_count_7d_avg`) `column_2185d12e706` FROM q GROUP BY `event_date`\"\"\"))\n    else:\n        displayHTML(\"dataframe no longer exists. If you're using dataframe.display(), use display(dataframe) instead.\")\n\n\nfinally:\n    spark.sql(\"drop view if exists DatabricksView339fbbd\")\n    display = __backend_agg_display_orig\n    del __backend_agg_display_new\n    del __backend_agg_display_orig\n    del __backend_agg_dfs\n    del __backend_agg_user_code_fn\n\n",
       "commandTitle": "Visualization 1",
       "commandType": "auto",
       "commandVersion": 0,
       "commentThread": [],
       "commentsVisible": false,
       "contentSha256Hex": null,
       "customPlotOptions": {
        "redashChart": [
         {
          "key": "type",
          "value": "CHART"
         },
         {
          "key": "options",
          "value": {
           "alignYAxesAtZero": true,
           "coefficient": 1,
           "columnConfigurationMap": {
            "x": {
             "column": "event_date",
             "id": "column_2185d12e703"
            },
            "y": [
             {
              "column": "txn_count_7d_avg",
              "id": "column_2185d12e706",
              "transform": "SUM"
             }
            ]
           },
           "dateTimeFormat": "DD/MM/YYYY HH:mm",
           "direction": {
            "type": "counterclockwise"
           },
           "error_y": {
            "type": "data",
            "visible": true
           },
           "globalSeriesType": "area",
           "isAggregationOn": true,
           "legend": {
            "traceorder": "normal"
           },
           "missingValuesAsZero": true,
           "numberFormat": "0,0.[00000]",
           "percentFormat": "0[.]00%",
           "series": {
            "error_y": {
             "type": "data",
             "visible": true
            },
            "stacking": null
           },
           "seriesOptions": {
            "column_2185d12e706": {
             "type": "area",
             "yAxis": 0
            },
            "txn_count": {
             "type": "area",
             "yAxis": 0
            },
            "txn_count_7d_avg": {
             "type": "area",
             "yAxis": 0
            },
            "txn_count_7d_sum": {
             "type": "area",
             "yAxis": 0
            }
           },
           "showDataLabels": false,
           "sizemode": "diameter",
           "sortX": true,
           "sortY": true,
           "swappedAxes": false,
           "textFormat": "",
           "useAggregationsUi": true,
           "valuesOptions": {},
           "version": 2,
           "xAxis": {
            "labels": {
             "enabled": true
            },
            "type": "-"
           },
           "yAxis": [
            {
             "type": "-"
            },
            {
             "opposite": true,
             "type": "-"
            }
           ]
          }
         }
        ]
       },
       "datasetPreviewNameToCmdIdMap": {},
       "diffDeletes": [],
       "diffInserts": [],
       "displayType": "redashChart",
       "error": null,
       "errorDetails": null,
       "errorSummary": null,
       "errorTraceType": null,
       "finishTime": 0,
       "globalVars": {},
       "guid": "",
       "height": "auto",
       "hideCommandCode": false,
       "hideCommandResult": false,
       "iPythonMetadata": null,
       "inputWidgets": {},
       "isLockedInExamMode": false,
       "latestAssumeRoleInfo": null,
       "latestUser": "a user",
       "latestUserId": null,
       "listResultMetadata": null,
       "metadata": {},
       "nuid": "167538ec-3f08-452d-89ff-8304d1f5b441",
       "origId": 0,
       "parentHierarchy": [],
       "pivotAggregation": null,
       "pivotColumns": null,
       "position": 5.0,
       "resultDbfsErrorMessage": null,
       "resultDbfsStatus": "INLINED_IN_TREE",
       "results": null,
       "showCommandTitle": false,
       "startTime": 0,
       "state": "input",
       "streamStates": {},
       "subcommandOptions": {
        "queryPlan": {
         "groups": [
          {
           "column": "event_date",
           "type": "column"
          }
         ],
         "selects": [
          {
           "column": "event_date",
           "type": "column"
          },
          {
           "alias": "column_2185d12e706",
           "args": [
            {
             "column": "txn_count_7d_avg",
             "type": "column"
            }
           ],
           "function": "SUM",
           "type": "function"
          }
         ]
        }
       },
       "submitTime": 0,
       "subtype": "tableResultSubCmd.visualization",
       "tableResultIndex": 0,
       "tableResultSettingsMap": {},
       "useConsistentColors": false,
       "version": "CommandV1",
       "width": "auto",
       "workflows": [],
       "xColumns": null,
       "yColumns": null
      }
     },
     "output_type": "display_data"
    }
   ],
   "source": [
    "kpi_7day_df = spark.read.csv(\n",
    "    \"/Volumes/workspace/data/bda_project/gold/csv/kpi_7day_txn.csv/\",  # path to the folder\n",
    "    header=True,                          # use the first row as column names\n",
    "    inferSchema=True                       # automatically detect data types\n",
    ")\n",
    "display(kpi_7day_df)\n"
   ]
  },
  {
   "cell_type": "code",
   "execution_count": 0,
   "metadata": {
    "application/vnd.databricks.v1+cell": {
     "cellMetadata": {
      "byteLimit": 2048000,
      "rowLimit": 10000
     },
     "inputWidgets": {},
     "nuid": "8378cd57-f050-4daa-9624-ed9231d7b5a6",
     "showTitle": false,
     "tableResultSettingsMap": {},
     "title": ""
    }
   },
   "outputs": [
    {
     "output_type": "display_data",
     "data": {
      "text/html": [
       "<style scoped>\n",
       "  .table-result-container {\n",
       "    max-height: 300px;\n",
       "    overflow: auto;\n",
       "  }\n",
       "  table, th, td {\n",
       "    border: 1px solid black;\n",
       "    border-collapse: collapse;\n",
       "  }\n",
       "  th, td {\n",
       "    padding: 5px;\n",
       "  }\n",
       "  th {\n",
       "    text-align: left;\n",
       "  }\n",
       "</style><div class='table-result-container'><table class='table-result'><thead style='background-color: white'><tr><th>city</th><th>txn_count</th><th>international_count</th><th>avg_amount</th><th>fraud_count</th><th>pct_international</th><th>fraud_rate</th></tr></thead><tbody><tr><td>Chennai</td><td>99831</td><td>7896</td><td>1.6510677819867825</td><td>974</td><td>0.07909366829942603</td><td>0.009756488465506707</td></tr><tr><td>Delhi</td><td>99385</td><td>7897</td><td>1.648446010051123</td><td>1007</td><td>0.0794586708255773</td><td>0.010132313729436031</td></tr><tr><td>Mumbai</td><td>100486</td><td>8038</td><td>1.6594508996214294</td><td>935</td><td>0.0799912425611528</td><td>0.009304778775152758</td></tr><tr><td>Bengaluru</td><td>150562</td><td>12125</td><td>1.6565062739157521</td><td>1459</td><td>0.08053160824112326</td><td>0.009690360117426708</td></tr><tr><td>Hyderabad</td><td>49736</td><td>3916</td><td>1.6644138287395835</td><td>459</td><td>0.07873572462602542</td><td>0.009228727682161814</td></tr></tbody></table></div>"
      ]
     },
     "metadata": {
      "application/vnd.databricks.v1+output": {
       "addedWidgets": {},
       "aggData": [],
       "aggError": "",
       "aggOverflow": false,
       "aggSchema": [],
       "aggSeriesLimitReached": false,
       "aggType": "",
       "arguments": {},
       "columnCustomDisplayInfos": {},
       "data": [
        [
         "Chennai",
         99831,
         7896,
         1.6510677819867825,
         974,
         0.07909366829942603,
         0.009756488465506707
        ],
        [
         "Delhi",
         99385,
         7897,
         1.648446010051123,
         1007,
         0.0794586708255773,
         0.010132313729436031
        ],
        [
         "Mumbai",
         100486,
         8038,
         1.6594508996214294,
         935,
         0.0799912425611528,
         0.009304778775152758
        ],
        [
         "Bengaluru",
         150562,
         12125,
         1.6565062739157521,
         1459,
         0.08053160824112326,
         0.009690360117426708
        ],
        [
         "Hyderabad",
         49736,
         3916,
         1.6644138287395835,
         459,
         0.07873572462602542,
         0.009228727682161814
        ]
       ],
       "datasetInfos": [],
       "dbfsResultPath": null,
       "isJsonSchema": true,
       "metadata": {},
       "overflow": false,
       "plotOptions": {
        "customPlotOptions": {},
        "displayType": "table",
        "pivotAggregation": null,
        "pivotColumns": null,
        "xColumns": null,
        "yColumns": null
       },
       "removedWidgets": [],
       "schema": [
        {
         "metadata": "{}",
         "name": "city",
         "type": "\"string\""
        },
        {
         "metadata": "{}",
         "name": "txn_count",
         "type": "\"integer\""
        },
        {
         "metadata": "{}",
         "name": "international_count",
         "type": "\"integer\""
        },
        {
         "metadata": "{}",
         "name": "avg_amount",
         "type": "\"double\""
        },
        {
         "metadata": "{}",
         "name": "fraud_count",
         "type": "\"integer\""
        },
        {
         "metadata": "{}",
         "name": "pct_international",
         "type": "\"double\""
        },
        {
         "metadata": "{}",
         "name": "fraud_rate",
         "type": "\"double\""
        }
       ],
       "type": "table"
      }
     },
     "output_type": "display_data"
    },
    {
     "output_type": "display_data",
     "data": {
      "text/plain": [
       "Databricks visualization. Run in Databricks to view."
      ]
     },
     "metadata": {
      "application/vnd.databricks.v1.subcommand+json": {
       "baseErrorDetails": null,
       "bindings": {},
       "collapsed": false,
       "command": "%python\n__backend_agg_display_orig = display\n__backend_agg_dfs = []\ndef __backend_agg_display_new(df):\n    __backend_agg_df_modules = [\"pandas.core.frame\", \"databricks.koalas.frame\", \"pyspark.sql.dataframe\", \"pyspark.pandas.frame\", \"pyspark.sql.connect.dataframe\"]\n    if (type(df).__module__ in __backend_agg_df_modules and type(df).__name__ == 'DataFrame') or isinstance(df, list):\n        __backend_agg_dfs.append(df)\n\ndisplay = __backend_agg_display_new\n\ndef __backend_agg_user_code_fn():\n    import base64\n    exec(base64.standard_b64decode(\"Y2l0eV9pbnRlcm5hdGlvbmFsX2RmID0gc3BhcmsucmVhZC5jc3YoCiAgICAiL1ZvbHVtZXMvd29ya3NwYWNlL2RhdGEvYmRhX3Byb2plY3QvZ29sZC9jc3Yva3BpX2NpdHlfaW50ZXJuYXRpb25hbC5jc3YiLCAgIyBwYXRoIHRvIHRoZSBmb2xkZXIKICAgIGhlYWRlcj1UcnVlLCAgICAgICAgICAgICAgICAgICAgICAgICAgIyB1c2UgdGhlIGZpcnN0IHJvdyBhcyBjb2x1bW4gbmFtZXMKICAgIGluZmVyU2NoZW1hPVRydWUgICAgICAgICAgICAgICAgICAgICAgICMgYXV0b21hdGljYWxseSBkZXRlY3QgZGF0YSB0eXBlcwopCmRpc3BsYXkoY2l0eV9pbnRlcm5hdGlvbmFsX2RmKQ==\").decode())\n\ntry:\n    # run user code\n    __backend_agg_user_code_fn()\n\n    #reset display function\n    display = __backend_agg_display_orig\n\n    if len(__backend_agg_dfs) > 0:\n        # create a temp view\n        if type(__backend_agg_dfs[0]).__module__ == \"databricks.koalas.frame\":\n            # koalas dataframe\n            __backend_agg_dfs[0].to_spark().createOrReplaceTempView(\"DatabricksView3dc411f\")\n        elif type(__backend_agg_dfs[0]).__module__ == \"pandas.core.frame\" or isinstance(__backend_agg_dfs[0], list):\n            # pandas dataframe\n            spark.createDataFrame(__backend_agg_dfs[0]).createOrReplaceTempView(\"DatabricksView3dc411f\")\n        else:\n            __backend_agg_dfs[0].createOrReplaceTempView(\"DatabricksView3dc411f\")\n        #run backend agg\n        display(spark.sql(\"\"\"WITH q AS (select * from DatabricksView3dc411f) SELECT `city`,SUM(`international_count`) `column_2185d12e689` FROM q GROUP BY `city`\"\"\"))\n    else:\n        displayHTML(\"dataframe no longer exists. If you're using dataframe.display(), use display(dataframe) instead.\")\n\n\nfinally:\n    spark.sql(\"drop view if exists DatabricksView3dc411f\")\n    display = __backend_agg_display_orig\n    del __backend_agg_display_new\n    del __backend_agg_display_orig\n    del __backend_agg_dfs\n    del __backend_agg_user_code_fn\n\n",
       "commandTitle": "Visualization 1",
       "commandType": "auto",
       "commandVersion": 0,
       "commentThread": [],
       "commentsVisible": false,
       "contentSha256Hex": null,
       "customPlotOptions": {
        "redashChart": [
         {
          "key": "type",
          "value": "CHART"
         },
         {
          "key": "options",
          "value": {
           "alignYAxesAtZero": true,
           "coefficient": 1,
           "columnConfigurationMap": {
            "x": {
             "column": "city",
             "id": "column_2185d12e687"
            },
            "y": [
             {
              "column": "international_count",
              "id": "column_2185d12e689",
              "transform": "SUM"
             }
            ]
           },
           "dateTimeFormat": "DD/MM/YYYY HH:mm",
           "direction": {
            "type": "counterclockwise"
           },
           "error_y": {
            "type": "data",
            "visible": true
           },
           "globalSeriesType": "column",
           "isAggregationOn": true,
           "legend": {
            "traceorder": "normal"
           },
           "missingValuesAsZero": true,
           "numberFormat": "0,0.[00000]",
           "percentFormat": "0[.]00%",
           "series": {
            "error_y": {
             "type": "data",
             "visible": true
            },
            "stacking": null
           },
           "seriesOptions": {
            "column_2185d12e689": {
             "type": "column",
             "yAxis": 0
            }
           },
           "showDataLabels": false,
           "sizemode": "diameter",
           "sortX": true,
           "sortY": true,
           "swappedAxes": false,
           "textFormat": "",
           "useAggregationsUi": true,
           "valuesOptions": {},
           "version": 2,
           "xAxis": {
            "labels": {
             "enabled": true
            },
            "type": "-"
           },
           "yAxis": [
            {
             "type": "-"
            },
            {
             "opposite": true,
             "type": "-"
            }
           ]
          }
         }
        ]
       },
       "datasetPreviewNameToCmdIdMap": {},
       "diffDeletes": [],
       "diffInserts": [],
       "displayType": "redashChart",
       "error": null,
       "errorDetails": null,
       "errorSummary": null,
       "errorTraceType": null,
       "finishTime": 0,
       "globalVars": {},
       "guid": "",
       "height": "auto",
       "hideCommandCode": false,
       "hideCommandResult": false,
       "iPythonMetadata": null,
       "inputWidgets": {},
       "isLockedInExamMode": false,
       "latestAssumeRoleInfo": null,
       "latestUser": "a user",
       "latestUserId": null,
       "listResultMetadata": null,
       "metadata": {},
       "nuid": "13dce3c9-7341-4f9a-8627-6b6b394e2cf8",
       "origId": 0,
       "parentHierarchy": [],
       "pivotAggregation": null,
       "pivotColumns": null,
       "position": 5.5,
       "resultDbfsErrorMessage": null,
       "resultDbfsStatus": "INLINED_IN_TREE",
       "results": null,
       "showCommandTitle": false,
       "startTime": 0,
       "state": "input",
       "streamStates": {},
       "subcommandOptions": {
        "queryPlan": {
         "groups": [
          {
           "column": "city",
           "type": "column"
          }
         ],
         "selects": [
          {
           "column": "city",
           "type": "column"
          },
          {
           "alias": "column_2185d12e689",
           "args": [
            {
             "column": "international_count",
             "type": "column"
            }
           ],
           "function": "SUM",
           "type": "function"
          }
         ]
        }
       },
       "submitTime": 0,
       "subtype": "tableResultSubCmd.visualization",
       "tableResultIndex": 0,
       "tableResultSettingsMap": {},
       "useConsistentColors": false,
       "version": "CommandV1",
       "width": "auto",
       "workflows": [],
       "xColumns": null,
       "yColumns": null
      }
     },
     "output_type": "display_data"
    },
    {
     "output_type": "display_data",
     "data": {
      "text/plain": [
       "Databricks visualization. Run in Databricks to view."
      ]
     },
     "metadata": {
      "application/vnd.databricks.v1.subcommand+json": {
       "baseErrorDetails": null,
       "bindings": {},
       "collapsed": false,
       "command": "%python\n__backend_agg_display_orig = display\n__backend_agg_dfs = []\ndef __backend_agg_display_new(df):\n    __backend_agg_df_modules = [\"pandas.core.frame\", \"databricks.koalas.frame\", \"pyspark.sql.dataframe\", \"pyspark.pandas.frame\", \"pyspark.sql.connect.dataframe\"]\n    if (type(df).__module__ in __backend_agg_df_modules and type(df).__name__ == 'DataFrame') or isinstance(df, list):\n        __backend_agg_dfs.append(df)\n\ndisplay = __backend_agg_display_new\n\ndef __backend_agg_user_code_fn():\n    import base64\n    exec(base64.standard_b64decode(\"Y2l0eV9pbnRlcm5hdGlvbmFsX2RmID0gc3BhcmsucmVhZC5jc3YoCiAgICAiL1ZvbHVtZXMvd29ya3NwYWNlL2RhdGEvYmRhX3Byb2plY3QvZ29sZC9jc3Yva3BpX2NpdHlfaW50ZXJuYXRpb25hbC5jc3YiLCAgIyBwYXRoIHRvIHRoZSBmb2xkZXIKICAgIGhlYWRlcj1UcnVlLCAgICAgICAgICAgICAgICAgICAgICAgICAgIyB1c2UgdGhlIGZpcnN0IHJvdyBhcyBjb2x1bW4gbmFtZXMKICAgIGluZmVyU2NoZW1hPVRydWUgICAgICAgICAgICAgICAgICAgICAgICMgYXV0b21hdGljYWxseSBkZXRlY3QgZGF0YSB0eXBlcwopCmRpc3BsYXkoY2l0eV9pbnRlcm5hdGlvbmFsX2RmKQ==\").decode())\n\ntry:\n    # run user code\n    __backend_agg_user_code_fn()\n\n    #reset display function\n    display = __backend_agg_display_orig\n\n    if len(__backend_agg_dfs) > 0:\n        # create a temp view\n        if type(__backend_agg_dfs[0]).__module__ == \"databricks.koalas.frame\":\n            # koalas dataframe\n            __backend_agg_dfs[0].to_spark().createOrReplaceTempView(\"DatabricksViewc35e182\")\n        elif type(__backend_agg_dfs[0]).__module__ == \"pandas.core.frame\" or isinstance(__backend_agg_dfs[0], list):\n            # pandas dataframe\n            spark.createDataFrame(__backend_agg_dfs[0]).createOrReplaceTempView(\"DatabricksViewc35e182\")\n        else:\n            __backend_agg_dfs[0].createOrReplaceTempView(\"DatabricksViewc35e182\")\n        #run backend agg\n        display(spark.sql(\"\"\"WITH q AS (select * from DatabricksViewc35e182) SELECT `city`,SUM(`international_count`) `column_2185d12e734` FROM q GROUP BY `city`\"\"\"))\n    else:\n        displayHTML(\"dataframe no longer exists. If you're using dataframe.display(), use display(dataframe) instead.\")\n\n\nfinally:\n    spark.sql(\"drop view if exists DatabricksViewc35e182\")\n    display = __backend_agg_display_orig\n    del __backend_agg_display_new\n    del __backend_agg_display_orig\n    del __backend_agg_dfs\n    del __backend_agg_user_code_fn\n\n",
       "commandTitle": "Visualization 2",
       "commandType": "auto",
       "commandVersion": 0,
       "commentThread": [],
       "commentsVisible": false,
       "contentSha256Hex": null,
       "customPlotOptions": {
        "redashChart": [
         {
          "key": "type",
          "value": "CHART"
         },
         {
          "key": "options",
          "value": {
           "alignYAxesAtZero": true,
           "coefficient": 1,
           "columnConfigurationMap": {
            "x": {
             "column": "city",
             "id": "column_2185d12e732"
            },
            "y": [
             {
              "column": "international_count",
              "id": "column_2185d12e734",
              "transform": "SUM"
             }
            ]
           },
           "dateTimeFormat": "DD/MM/YYYY HH:mm",
           "direction": {
            "type": "counterclockwise"
           },
           "error_y": {
            "type": "data",
            "visible": true
           },
           "globalSeriesType": "pie",
           "isAggregationOn": true,
           "legend": {
            "traceorder": "normal"
           },
           "missingValuesAsZero": true,
           "numberFormat": "0,0.[00000]",
           "percentFormat": "0[.]00%",
           "series": {
            "error_y": {
             "type": "data",
             "visible": true
            },
            "stacking": null
           },
           "seriesOptions": {
            "column_2185d12e734": {
             "type": "pie",
             "yAxis": 0
            }
           },
           "showDataLabels": true,
           "sizemode": "diameter",
           "sortX": true,
           "sortY": true,
           "swappedAxes": false,
           "textFormat": "",
           "useAggregationsUi": true,
           "valuesOptions": {},
           "version": 2,
           "xAxis": {
            "labels": {
             "enabled": true
            },
            "type": "-"
           },
           "yAxis": [
            {
             "type": "-"
            },
            {
             "opposite": true,
             "type": "-"
            }
           ]
          }
         }
        ]
       },
       "datasetPreviewNameToCmdIdMap": {},
       "diffDeletes": [],
       "diffInserts": [],
       "displayType": "redashChart",
       "error": null,
       "errorDetails": null,
       "errorSummary": null,
       "errorTraceType": null,
       "finishTime": 0,
       "globalVars": {},
       "guid": "",
       "height": "auto",
       "hideCommandCode": false,
       "hideCommandResult": false,
       "iPythonMetadata": null,
       "inputWidgets": {},
       "isLockedInExamMode": false,
       "latestAssumeRoleInfo": null,
       "latestUser": "a user",
       "latestUserId": null,
       "listResultMetadata": null,
       "metadata": {},
       "nuid": "29268411-f91b-432b-9a31-169b8f7a5b71",
       "origId": 0,
       "parentHierarchy": [],
       "pivotAggregation": null,
       "pivotColumns": null,
       "position": 6.5,
       "resultDbfsErrorMessage": null,
       "resultDbfsStatus": "INLINED_IN_TREE",
       "results": null,
       "showCommandTitle": false,
       "startTime": 0,
       "state": "input",
       "streamStates": {},
       "subcommandOptions": {
        "queryPlan": {
         "groups": [
          {
           "column": "city",
           "type": "column"
          }
         ],
         "selects": [
          {
           "column": "city",
           "type": "column"
          },
          {
           "alias": "column_2185d12e734",
           "args": [
            {
             "column": "international_count",
             "type": "column"
            }
           ],
           "function": "SUM",
           "type": "function"
          }
         ]
        }
       },
       "submitTime": 0,
       "subtype": "tableResultSubCmd.visualization",
       "tableResultIndex": 0,
       "tableResultSettingsMap": {},
       "useConsistentColors": false,
       "version": "CommandV1",
       "width": "auto",
       "workflows": [],
       "xColumns": null,
       "yColumns": null
      }
     },
     "output_type": "display_data"
    }
   ],
   "source": [
    "city_international_df = spark.read.csv(\n",
    "    \"/Volumes/workspace/data/bda_project/gold/csv/kpi_city_international.csv\",  # path to the folder\n",
    "    header=True,                          # use the first row as column names\n",
    "    inferSchema=True                       # automatically detect data types\n",
    ")\n",
    "display(city_international_df)"
   ]
  },
  {
   "cell_type": "code",
   "execution_count": 0,
   "metadata": {
    "application/vnd.databricks.v1+cell": {
     "cellMetadata": {
      "byteLimit": 2048000,
      "rowLimit": 10000
     },
     "inputWidgets": {},
     "nuid": "63acf920-9819-4c59-aa2a-f264a6a6cd11",
     "showTitle": false,
     "tableResultSettingsMap": {},
     "title": ""
    }
   },
   "outputs": [
    {
     "output_type": "display_data",
     "data": {
      "text/html": [
       "<style scoped>\n",
       "  .table-result-container {\n",
       "    max-height: 300px;\n",
       "    overflow: auto;\n",
       "  }\n",
       "  table, th, td {\n",
       "    border: 1px solid black;\n",
       "    border-collapse: collapse;\n",
       "  }\n",
       "  th, td {\n",
       "    padding: 5px;\n",
       "  }\n",
       "  th {\n",
       "    text-align: left;\n",
       "  }\n",
       "</style><div class='table-result-container'><table class='table-result'><thead style='background-color: white'><tr><th>merchant_cat</th><th>txn_count</th><th>avg_amount</th><th>fraud_count</th><th>contactless_count</th><th>chip_count</th><th>fraud_rate</th><th>pct_contactless</th><th>pct_chip</th></tr></thead><tbody><tr><td>Travel</td><td>83465</td><td>1.657953668759926</td><td>799</td><td>33487</td><td>58283</td><td>0.009572874857724794</td><td>0.40121008806086383</td><td>0.6982926975378901</td></tr><tr><td>BillPay</td><td>83358</td><td>1.6526115913530375</td><td>820</td><td>33504</td><td>58235</td><td>0.00983708822188632</td><td>0.4019290290074138</td><td>0.698613210489695</td></tr><tr><td>Dining</td><td>83329</td><td>1.6601951601961726</td><td>816</td><td>33406</td><td>58214</td><td>0.009792509210478945</td><td>0.40089284642801426</td><td>0.6986043274250261</td></tr><tr><td>Fuel</td><td>83626</td><td>1.6613264723079475</td><td>837</td><td>33253</td><td>58718</td><td>0.010008848922583885</td><td>0.39763949011073113</td><td>0.7021500490278143</td></tr><tr><td>Grocery</td><td>83251</td><td>1.648265605147236</td><td>784</td><td>33230</td><td>58211</td><td>0.009417304296645085</td><td>0.399154364512138</td><td>0.6992228321581723</td></tr><tr><td>Electronics</td><td>82971</td><td>1.6507764325478806</td><td>778</td><td>33305</td><td>57878</td><td>0.009376770196815754</td><td>0.4014053102891372</td><td>0.697569030143062</td></tr></tbody></table></div>"
      ]
     },
     "metadata": {
      "application/vnd.databricks.v1+output": {
       "addedWidgets": {},
       "aggData": [],
       "aggError": "",
       "aggOverflow": false,
       "aggSchema": [],
       "aggSeriesLimitReached": false,
       "aggType": "",
       "arguments": {},
       "columnCustomDisplayInfos": {},
       "data": [
        [
         "Travel",
         83465,
         1.657953668759926,
         799,
         33487,
         58283,
         0.009572874857724794,
         0.40121008806086383,
         0.6982926975378901
        ],
        [
         "BillPay",
         83358,
         1.6526115913530375,
         820,
         33504,
         58235,
         0.00983708822188632,
         0.4019290290074138,
         0.698613210489695
        ],
        [
         "Dining",
         83329,
         1.6601951601961726,
         816,
         33406,
         58214,
         0.009792509210478945,
         0.40089284642801426,
         0.6986043274250261
        ],
        [
         "Fuel",
         83626,
         1.6613264723079475,
         837,
         33253,
         58718,
         0.010008848922583885,
         0.39763949011073113,
         0.7021500490278143
        ],
        [
         "Grocery",
         83251,
         1.648265605147236,
         784,
         33230,
         58211,
         0.009417304296645085,
         0.399154364512138,
         0.6992228321581723
        ],
        [
         "Electronics",
         82971,
         1.6507764325478806,
         778,
         33305,
         57878,
         0.009376770196815754,
         0.4014053102891372,
         0.697569030143062
        ]
       ],
       "datasetInfos": [],
       "dbfsResultPath": null,
       "isJsonSchema": true,
       "metadata": {},
       "overflow": false,
       "plotOptions": {
        "customPlotOptions": {},
        "displayType": "table",
        "pivotAggregation": null,
        "pivotColumns": null,
        "xColumns": null,
        "yColumns": null
       },
       "removedWidgets": [],
       "schema": [
        {
         "metadata": "{}",
         "name": "merchant_cat",
         "type": "\"string\""
        },
        {
         "metadata": "{}",
         "name": "txn_count",
         "type": "\"integer\""
        },
        {
         "metadata": "{}",
         "name": "avg_amount",
         "type": "\"double\""
        },
        {
         "metadata": "{}",
         "name": "fraud_count",
         "type": "\"integer\""
        },
        {
         "metadata": "{}",
         "name": "contactless_count",
         "type": "\"integer\""
        },
        {
         "metadata": "{}",
         "name": "chip_count",
         "type": "\"integer\""
        },
        {
         "metadata": "{}",
         "name": "fraud_rate",
         "type": "\"double\""
        },
        {
         "metadata": "{}",
         "name": "pct_contactless",
         "type": "\"double\""
        },
        {
         "metadata": "{}",
         "name": "pct_chip",
         "type": "\"double\""
        }
       ],
       "type": "table"
      }
     },
     "output_type": "display_data"
    },
    {
     "output_type": "display_data",
     "data": {
      "text/plain": [
       "Databricks visualization. Run in Databricks to view."
      ]
     },
     "metadata": {
      "application/vnd.databricks.v1.subcommand+json": {
       "baseErrorDetails": null,
       "bindings": {},
       "collapsed": false,
       "command": "%python\n__backend_agg_display_orig = display\n__backend_agg_dfs = []\ndef __backend_agg_display_new(df):\n    __backend_agg_df_modules = [\"pandas.core.frame\", \"databricks.koalas.frame\", \"pyspark.sql.dataframe\", \"pyspark.pandas.frame\", \"pyspark.sql.connect.dataframe\"]\n    if (type(df).__module__ in __backend_agg_df_modules and type(df).__name__ == 'DataFrame') or isinstance(df, list):\n        __backend_agg_dfs.append(df)\n\ndisplay = __backend_agg_display_new\n\ndef __backend_agg_user_code_fn():\n    import base64\n    exec(base64.standard_b64decode(\"a3BpX21lcmNoYW50X2RmID0gc3BhcmsucmVhZC5jc3YoCiAgICAiL1ZvbHVtZXMvd29ya3NwYWNlL2RhdGEvYmRhX3Byb2plY3QvZ29sZC9jc3Yva3BpX21lcmNoYW50X2NhdC5jc3YvIiwgICMgcGF0aCB0byB0aGUgZm9sZGVyCiAgICBoZWFkZXI9VHJ1ZSwgICAgICAgICAgICAgICAgICAgICAgICAgICMgdXNlIHRoZSBmaXJzdCByb3cgYXMgY29sdW1uIG5hbWVzCiAgICBpbmZlclNjaGVtYT1UcnVlICAgICAgICAgICAgICAgICAgICAgICAjIGF1dG9tYXRpY2FsbHkgZGV0ZWN0IGRhdGEgdHlwZXMKKQpkaXNwbGF5KGtwaV9tZXJjaGFudF9kZikK\").decode())\n\ntry:\n    # run user code\n    __backend_agg_user_code_fn()\n\n    #reset display function\n    display = __backend_agg_display_orig\n\n    if len(__backend_agg_dfs) > 0:\n        # create a temp view\n        if type(__backend_agg_dfs[0]).__module__ == \"databricks.koalas.frame\":\n            # koalas dataframe\n            __backend_agg_dfs[0].to_spark().createOrReplaceTempView(\"DatabricksViewea56663\")\n        elif type(__backend_agg_dfs[0]).__module__ == \"pandas.core.frame\" or isinstance(__backend_agg_dfs[0], list):\n            # pandas dataframe\n            spark.createDataFrame(__backend_agg_dfs[0]).createOrReplaceTempView(\"DatabricksViewea56663\")\n        else:\n            __backend_agg_dfs[0].createOrReplaceTempView(\"DatabricksViewea56663\")\n        #run backend agg\n        display(spark.sql(\"\"\"WITH q AS (select * from DatabricksViewea56663) SELECT `merchant_cat`,AVG(`fraud_rate`) `column_2185d12e713`,AVG(`avg_amount`) `column_2185d12e716` FROM q GROUP BY `merchant_cat`\"\"\"))\n    else:\n        displayHTML(\"dataframe no longer exists. If you're using dataframe.display(), use display(dataframe) instead.\")\n\n\nfinally:\n    spark.sql(\"drop view if exists DatabricksViewea56663\")\n    display = __backend_agg_display_orig\n    del __backend_agg_display_new\n    del __backend_agg_display_orig\n    del __backend_agg_dfs\n    del __backend_agg_user_code_fn\n\n",
       "commandTitle": "Visualization 1",
       "commandType": "auto",
       "commandVersion": 0,
       "commentThread": [],
       "commentsVisible": false,
       "contentSha256Hex": null,
       "customPlotOptions": {
        "redashChart": [
         {
          "key": "type",
          "value": "CHART"
         },
         {
          "key": "options",
          "value": {
           "alignYAxesAtZero": true,
           "coefficient": 1,
           "columnConfigurationMap": {
            "x": {
             "column": "merchant_cat",
             "id": "column_2185d12e708"
            },
            "y": [
             {
              "column": "fraud_rate",
              "id": "column_2185d12e713",
              "transform": "AVG"
             },
             {
              "column": "avg_amount",
              "id": "column_2185d12e716",
              "transform": "AVG"
             }
            ]
           },
           "dateTimeFormat": "DD/MM/YYYY HH:mm",
           "direction": {
            "type": "counterclockwise"
           },
           "error_y": {
            "type": "data",
            "visible": true
           },
           "globalSeriesType": "column",
           "isAggregationOn": true,
           "legend": {
            "traceorder": "normal"
           },
           "missingValuesAsZero": true,
           "numberFormat": "0,0.[00000]",
           "percentFormat": "0[.]00%",
           "series": {
            "error_y": {
             "type": "data",
             "visible": true
            },
            "stacking": null
           },
           "seriesOptions": {
            "column_2185d12e710": {
             "type": "column",
             "yAxis": 0
            },
            "column_2185d12e713": {
             "type": "column",
             "yAxis": 0
            },
            "column_2185d12e716": {
             "type": "column",
             "yAxis": 0
            }
           },
           "showDataLabels": false,
           "sizemode": "diameter",
           "sortX": true,
           "sortY": true,
           "swappedAxes": false,
           "textFormat": "",
           "useAggregationsUi": true,
           "valuesOptions": {},
           "version": 2,
           "xAxis": {
            "labels": {
             "enabled": true
            },
            "type": "-"
           },
           "yAxis": [
            {
             "type": "-"
            },
            {
             "opposite": true,
             "type": "-"
            }
           ]
          }
         }
        ]
       },
       "datasetPreviewNameToCmdIdMap": {},
       "diffDeletes": [],
       "diffInserts": [],
       "displayType": "redashChart",
       "error": null,
       "errorDetails": null,
       "errorSummary": null,
       "errorTraceType": null,
       "finishTime": 0,
       "globalVars": {},
       "guid": "",
       "height": "auto",
       "hideCommandCode": false,
       "hideCommandResult": false,
       "iPythonMetadata": null,
       "inputWidgets": {},
       "isLockedInExamMode": false,
       "latestAssumeRoleInfo": null,
       "latestUser": "a user",
       "latestUserId": null,
       "listResultMetadata": null,
       "metadata": {},
       "nuid": "c21165e0-adb8-4491-acc4-33e739609cc6",
       "origId": 0,
       "parentHierarchy": [],
       "pivotAggregation": null,
       "pivotColumns": null,
       "position": 6.0,
       "resultDbfsErrorMessage": null,
       "resultDbfsStatus": "INLINED_IN_TREE",
       "results": null,
       "showCommandTitle": false,
       "startTime": 0,
       "state": "input",
       "streamStates": {},
       "subcommandOptions": {
        "queryPlan": {
         "groups": [
          {
           "column": "merchant_cat",
           "type": "column"
          }
         ],
         "selects": [
          {
           "column": "merchant_cat",
           "type": "column"
          },
          {
           "alias": "column_2185d12e713",
           "args": [
            {
             "column": "fraud_rate",
             "type": "column"
            }
           ],
           "function": "AVG",
           "type": "function"
          },
          {
           "alias": "column_2185d12e716",
           "args": [
            {
             "column": "avg_amount",
             "type": "column"
            }
           ],
           "function": "AVG",
           "type": "function"
          }
         ]
        }
       },
       "submitTime": 0,
       "subtype": "tableResultSubCmd.visualization",
       "tableResultIndex": 0,
       "tableResultSettingsMap": {},
       "useConsistentColors": false,
       "version": "CommandV1",
       "width": "auto",
       "workflows": [],
       "xColumns": null,
       "yColumns": null
      }
     },
     "output_type": "display_data"
    }
   ],
   "source": [
    "kpi_merchant_df = spark.read.csv(\n",
    "    \"/Volumes/workspace/data/bda_project/gold/csv/kpi_merchant_cat.csv/\",  # path to the folder\n",
    "    header=True,                          # use the first row as column names\n",
    "    inferSchema=True                       # automatically detect data types\n",
    ")\n",
    "display(kpi_merchant_df)\n"
   ]
  },
  {
   "cell_type": "code",
   "execution_count": 0,
   "metadata": {
    "application/vnd.databricks.v1+cell": {
     "cellMetadata": {
      "byteLimit": 2048000,
      "rowLimit": 10000
     },
     "inputWidgets": {},
     "nuid": "64ed8d3f-eb04-4e40-9534-4a9b51c76765",
     "showTitle": false,
     "tableResultSettingsMap": {},
     "title": ""
    }
   },
   "outputs": [
    {
     "output_type": "display_data",
     "data": {
      "text/html": [
       "<style scoped>\n",
       "  .table-result-container {\n",
       "    max-height: 300px;\n",
       "    overflow: auto;\n",
       "  }\n",
       "  table, th, td {\n",
       "    border: 1px solid black;\n",
       "    border-collapse: collapse;\n",
       "  }\n",
       "  th, td {\n",
       "    padding: 5px;\n",
       "  }\n",
       "  th {\n",
       "    text-align: left;\n",
       "  }\n",
       "</style><div class='table-result-container'><table class='table-result'><thead style='background-color: white'><tr><th>card_id</th><th>txn_count</th><th>txn_amount_total</th><th>fraud_count</th><th>fraud_rate</th></tr></thead><tbody><tr><td>CARD-21678882</td><td>1</td><td>109.46250593225449</td><td>0</td><td>0.0</td></tr><tr><td>CARD-92084648</td><td>1</td><td>108.42130078536441</td><td>0</td><td>0.0</td></tr><tr><td>CARD-23536792</td><td>1</td><td>94.14974525801294</td><td>0</td><td>0.0</td></tr><tr><td>CARD-48603990</td><td>1</td><td>76.9911062676673</td><td>0</td><td>0.0</td></tr><tr><td>CARD-71849390</td><td>1</td><td>74.46163496354002</td><td>0</td><td>0.0</td></tr><tr><td>CARD-47850931</td><td>1</td><td>74.38397963361484</td><td>0</td><td>0.0</td></tr><tr><td>CARD-89572485</td><td>1</td><td>68.82630097709661</td><td>0</td><td>0.0</td></tr><tr><td>CARD-62711192</td><td>1</td><td>61.83721906074922</td><td>0</td><td>0.0</td></tr><tr><td>CARD-30116550</td><td>1</td><td>61.76231492809488</td><td>0</td><td>0.0</td></tr><tr><td>CARD-29801287</td><td>1</td><td>61.560435277250626</td><td>0</td><td>0.0</td></tr></tbody></table></div>"
      ]
     },
     "metadata": {
      "application/vnd.databricks.v1+output": {
       "addedWidgets": {},
       "aggData": [],
       "aggError": "",
       "aggOverflow": false,
       "aggSchema": [],
       "aggSeriesLimitReached": false,
       "aggType": "",
       "arguments": {},
       "columnCustomDisplayInfos": {},
       "data": [
        [
         "CARD-21678882",
         1,
         109.46250593225449,
         0,
         0.0
        ],
        [
         "CARD-92084648",
         1,
         108.42130078536441,
         0,
         0.0
        ],
        [
         "CARD-23536792",
         1,
         94.14974525801294,
         0,
         0.0
        ],
        [
         "CARD-48603990",
         1,
         76.9911062676673,
         0,
         0.0
        ],
        [
         "CARD-71849390",
         1,
         74.46163496354002,
         0,
         0.0
        ],
        [
         "CARD-47850931",
         1,
         74.38397963361484,
         0,
         0.0
        ],
        [
         "CARD-89572485",
         1,
         68.82630097709661,
         0,
         0.0
        ],
        [
         "CARD-62711192",
         1,
         61.83721906074922,
         0,
         0.0
        ],
        [
         "CARD-30116550",
         1,
         61.76231492809488,
         0,
         0.0
        ],
        [
         "CARD-29801287",
         1,
         61.560435277250626,
         0,
         0.0
        ]
       ],
       "datasetInfos": [],
       "dbfsResultPath": null,
       "isJsonSchema": true,
       "metadata": {},
       "overflow": false,
       "plotOptions": {
        "customPlotOptions": {},
        "displayType": "table",
        "pivotAggregation": null,
        "pivotColumns": null,
        "xColumns": null,
        "yColumns": null
       },
       "removedWidgets": [],
       "schema": [
        {
         "metadata": "{}",
         "name": "card_id",
         "type": "\"string\""
        },
        {
         "metadata": "{}",
         "name": "txn_count",
         "type": "\"integer\""
        },
        {
         "metadata": "{}",
         "name": "txn_amount_total",
         "type": "\"double\""
        },
        {
         "metadata": "{}",
         "name": "fraud_count",
         "type": "\"integer\""
        },
        {
         "metadata": "{}",
         "name": "fraud_rate",
         "type": "\"double\""
        }
       ],
       "type": "table"
      }
     },
     "output_type": "display_data"
    },
    {
     "output_type": "display_data",
     "data": {
      "text/plain": [
       "Databricks visualization. Run in Databricks to view."
      ]
     },
     "metadata": {
      "application/vnd.databricks.v1.subcommand+json": {
       "baseErrorDetails": null,
       "bindings": {},
       "collapsed": false,
       "command": "%python\n__backend_agg_display_orig = display\n__backend_agg_dfs = []\ndef __backend_agg_display_new(df):\n    __backend_agg_df_modules = [\"pandas.core.frame\", \"databricks.koalas.frame\", \"pyspark.sql.dataframe\", \"pyspark.pandas.frame\", \"pyspark.sql.connect.dataframe\"]\n    if (type(df).__module__ in __backend_agg_df_modules and type(df).__name__ == 'DataFrame') or isinstance(df, list):\n        __backend_agg_dfs.append(df)\n\ndisplay = __backend_agg_display_new\n\ndef __backend_agg_user_code_fn():\n    import base64\n    exec(base64.standard_b64decode(\"a3BpX3RvcF9jYXJkc19kZiA9IHNwYXJrLnJlYWQuY3N2KAogICAgIi9Wb2x1bWVzL3dvcmtzcGFjZS9kYXRhL2JkYV9wcm9qZWN0L2dvbGQvY3N2L2twaV90b3BfY2FyZHMuY3N2LyIsICAjIHBhdGggdG8gdGhlIGZvbGRlcgogICAgaGVhZGVyPVRydWUsICAgICAgICAgICAgICAgICAgICAgICAgICAjIHVzZSB0aGUgZmlyc3Qgcm93IGFzIGNvbHVtbiBuYW1lcwogICAgaW5mZXJTY2hlbWE9VHJ1ZSAgICAgICAgICAgICAgICAgICAgICAgIyBhdXRvbWF0aWNhbGx5IGRldGVjdCBkYXRhIHR5cGVzCikKZGlzcGxheShrcGlfdG9wX2NhcmRzX2RmKQo=\").decode())\n\ntry:\n    # run user code\n    __backend_agg_user_code_fn()\n\n    #reset display function\n    display = __backend_agg_display_orig\n\n    if len(__backend_agg_dfs) > 0:\n        # create a temp view\n        if type(__backend_agg_dfs[0]).__module__ == \"databricks.koalas.frame\":\n            # koalas dataframe\n            __backend_agg_dfs[0].to_spark().createOrReplaceTempView(\"DatabricksViewdaf1f24\")\n        elif type(__backend_agg_dfs[0]).__module__ == \"pandas.core.frame\" or isinstance(__backend_agg_dfs[0], list):\n            # pandas dataframe\n            spark.createDataFrame(__backend_agg_dfs[0]).createOrReplaceTempView(\"DatabricksViewdaf1f24\")\n        else:\n            __backend_agg_dfs[0].createOrReplaceTempView(\"DatabricksViewdaf1f24\")\n        #run backend agg\n        display(spark.sql(\"\"\"WITH q AS (select * from DatabricksViewdaf1f24) SELECT `card_id`,SUM(`txn_amount_total`) `column_2185d12e720` FROM q GROUP BY `card_id`\"\"\"))\n    else:\n        displayHTML(\"dataframe no longer exists. If you're using dataframe.display(), use display(dataframe) instead.\")\n\n\nfinally:\n    spark.sql(\"drop view if exists DatabricksViewdaf1f24\")\n    display = __backend_agg_display_orig\n    del __backend_agg_display_new\n    del __backend_agg_display_orig\n    del __backend_agg_dfs\n    del __backend_agg_user_code_fn\n\n",
       "commandTitle": "Visualization 1",
       "commandType": "auto",
       "commandVersion": 0,
       "commentThread": [],
       "commentsVisible": false,
       "contentSha256Hex": null,
       "customPlotOptions": {
        "redashChart": [
         {
          "key": "type",
          "value": "CHART"
         },
         {
          "key": "options",
          "value": {
           "alignYAxesAtZero": true,
           "coefficient": 1,
           "columnConfigurationMap": {
            "x": {
             "column": "card_id",
             "id": "column_2185d12e718"
            },
            "y": [
             {
              "column": "txn_amount_total",
              "id": "column_2185d12e720",
              "transform": "SUM"
             }
            ]
           },
           "dateTimeFormat": "DD/MM/YYYY HH:mm",
           "direction": {
            "type": "counterclockwise"
           },
           "error_y": {
            "type": "data",
            "visible": true
           },
           "globalSeriesType": "column",
           "isAggregationOn": true,
           "legend": {
            "traceorder": "normal"
           },
           "missingValuesAsZero": true,
           "numberFormat": "0,0.[00000]",
           "percentFormat": "0[.]00%",
           "series": {
            "error_y": {
             "type": "data",
             "visible": true
            },
            "stacking": null
           },
           "seriesOptions": {
            "column_2185d12e720": {
             "type": "column",
             "yAxis": 0
            }
           },
           "showDataLabels": false,
           "sizemode": "diameter",
           "sortX": true,
           "sortY": true,
           "swappedAxes": false,
           "textFormat": "",
           "useAggregationsUi": true,
           "valuesOptions": {},
           "version": 2,
           "xAxis": {
            "labels": {
             "enabled": true
            },
            "type": "-"
           },
           "yAxis": [
            {
             "type": "-"
            },
            {
             "opposite": true,
             "type": "-"
            }
           ]
          }
         }
        ]
       },
       "datasetPreviewNameToCmdIdMap": {},
       "diffDeletes": [],
       "diffInserts": [],
       "displayType": "redashChart",
       "error": null,
       "errorDetails": null,
       "errorSummary": null,
       "errorTraceType": null,
       "finishTime": 0,
       "globalVars": {},
       "guid": "",
       "height": "auto",
       "hideCommandCode": false,
       "hideCommandResult": false,
       "iPythonMetadata": null,
       "inputWidgets": {},
       "isLockedInExamMode": false,
       "latestAssumeRoleInfo": null,
       "latestUser": "a user",
       "latestUserId": null,
       "listResultMetadata": null,
       "metadata": {},
       "nuid": "336009e8-1724-4cae-b6ed-85a344efe7b9",
       "origId": 0,
       "parentHierarchy": [],
       "pivotAggregation": null,
       "pivotColumns": null,
       "position": 7.0,
       "resultDbfsErrorMessage": null,
       "resultDbfsStatus": "INLINED_IN_TREE",
       "results": null,
       "showCommandTitle": false,
       "startTime": 0,
       "state": "input",
       "streamStates": {},
       "subcommandOptions": {
        "queryPlan": {
         "groups": [
          {
           "column": "card_id",
           "type": "column"
          }
         ],
         "selects": [
          {
           "column": "card_id",
           "type": "column"
          },
          {
           "alias": "column_2185d12e720",
           "args": [
            {
             "column": "txn_amount_total",
             "type": "column"
            }
           ],
           "function": "SUM",
           "type": "function"
          }
         ]
        }
       },
       "submitTime": 0,
       "subtype": "tableResultSubCmd.visualization",
       "tableResultIndex": 0,
       "tableResultSettingsMap": {},
       "useConsistentColors": false,
       "version": "CommandV1",
       "width": "auto",
       "workflows": [],
       "xColumns": null,
       "yColumns": null
      }
     },
     "output_type": "display_data"
    }
   ],
   "source": [
    "kpi_top_cards_df = spark.read.csv(\n",
    "    \"/Volumes/workspace/data/bda_project/gold/csv/kpi_top_cards.csv/\",  # path to the folder\n",
    "    header=True,                          # use the first row as column names\n",
    "    inferSchema=True                       # automatically detect data types\n",
    ")\n",
    "display(kpi_top_cards_df)\n"
   ]
  },
  {
   "cell_type": "code",
   "execution_count": 0,
   "metadata": {
    "application/vnd.databricks.v1+cell": {
     "cellMetadata": {},
     "inputWidgets": {},
     "nuid": "cf138efa-3b24-413d-9b22-3ef6f6c6a634",
     "showTitle": false,
     "tableResultSettingsMap": {},
     "title": ""
    }
   },
   "outputs": [],
   "source": []
  }
 ],
 "metadata": {
  "application/vnd.databricks.v1+notebook": {
   "computePreferences": null,
   "dashboards": [],
   "environmentMetadata": {
    "base_environment": "",
    "environment_version": "4"
   },
   "inputWidgetPreferences": null,
   "language": "python",
   "notebookMetadata": {
    "pythonIndentUnit": 4
   },
   "notebookName": "KPIs",
   "widgets": {}
  },
  "language_info": {
   "name": "python"
  }
 },
 "nbformat": 4,
 "nbformat_minor": 0
}