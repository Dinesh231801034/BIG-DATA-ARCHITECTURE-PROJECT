{
 "cells": [
  {
   "cell_type": "code",
   "execution_count": 0,
   "metadata": {
    "application/vnd.databricks.v1+cell": {
     "cellMetadata": {
      "byteLimit": 2048000,
      "rowLimit": 10000
     },
     "inputWidgets": {},
     "nuid": "8e320130-56eb-4126-84b9-2edf0b20617a",
     "showTitle": false,
     "tableResultSettingsMap": {},
     "title": ""
    }
   },
   "outputs": [],
   "source": [
    "from pyspark.sql import SparkSession\n",
    "\n",
    "spark = SparkSession.builder.appName(\"MarketSentimentAnalysis\").getOrCreate()\n",
    "\n",
    "bronze_df = spark.read.csv(\n",
    "    \"/Volumes/workspace/data/bda_project/data.csv\",\n",
    "    header=True,\n",
    "    inferSchema=True\n",
    ")\n"
   ]
  },
  {
   "cell_type": "code",
   "execution_count": 0,
   "metadata": {
    "application/vnd.databricks.v1+cell": {
     "cellMetadata": {
      "byteLimit": 2048000,
      "rowLimit": 10000
     },
     "inputWidgets": {},
     "nuid": "cb819f66-cbc1-4a85-a49b-10dc2a0d6b52",
     "showTitle": false,
     "tableResultSettingsMap": {},
     "title": ""
    }
   },
   "outputs": [],
   "source": [
    "from pyspark.sql import SparkSession\n",
    "from pyspark.sql.functions import col, to_timestamp\n",
    "\n",
    "# Initialize Spark session\n",
    "spark = SparkSession.builder.appName(\"MarketSentimentAnalysis\").getOrCreate()\n",
    "\n",
    "# Read the raw bronze data\n",
    "bronze_df = spark.read.csv(\n",
    "    \"/Volumes/workspace/data/bda_project/data.csv\",\n",
    "    header=True,\n",
    "    inferSchema=True\n",
    ")\n",
    "\n",
    "# Transform bronze → silver\n",
    "silver_df = (\n",
    "    bronze_df\n",
    "    .withColumn(\"event_time\", to_timestamp(\"event_time\", \"yyyy-MM-dd HH:mm:ss\"))\n",
    "    .withColumn(\"amount\", col(\"amount\").cast(\"double\"))\n",
    "    .dropna()\n",
    ")\n",
    "\n",
    "# Save silver layer as CSV (not parquet)\n",
    "silver_df.coalesce(1).write \\\n",
    "    .mode(\"overwrite\") \\\n",
    "    .option(\"header\", True) \\\n",
    "    .csv(\"/Volumes/workspace/data/bda_project/silver_data\")\n"
   ]
  },
  {
   "cell_type": "code",
   "execution_count": 0,
   "metadata": {
    "application/vnd.databricks.v1+cell": {
     "cellMetadata": {
      "byteLimit": 2048000,
      "rowLimit": 10000
     },
     "inputWidgets": {},
     "nuid": "de823f04-3888-4eed-a779-e25f2dffcac9",
     "showTitle": false,
     "tableResultSettingsMap": {},
     "title": ""
    }
   },
   "outputs": [
    {
     "output_type": "stream",
     "name": "stdout",
     "output_type": "stream",
     "text": [
      "+--------------------+--------------------+---------+-------+------------+-------------+------------------+----------------+-------+--------------+-----------+--------------------+\n|            event_id|          event_time|     city|channel|merchant_cat|      card_id|            amount|is_international|is_chip|is_contactless|label_fraud|                 key|\n+--------------------+--------------------+---------+-------+------------+-------------+------------------+----------------+-------+--------------+-----------+--------------------+\n|636f02e8-dd53-47e...|2025-01-25 04:12:...|Bengaluru|   ECom|     Grocery|CARD-44801393|1.5578442345277455|           false|  false|         false|      false|Bengaluru|Grocery...|\n|aa52d3af-1e91-43b...|2025-01-29 14:58:...|   Mumbai|    POS|      Dining|CARD-72278854| 13.48360838468957|           false|   true|          true|      false|Mumbai|Dining|POS...|\n|6f56530b-754e-4ed...|2025-01-24 05:34:...|   Mumbai|    POS|      Dining|CARD-47233054|0.7231511096718217|            true|   true|         false|      false|Mumbai|Dining|POS...|\n|4c7dcb00-e8ad-439...|2025-01-28 08:25:...|Bengaluru|   ECom|      Dining|CARD-82890806|0.7611884437997538|            true|   true|         false|      false|Bengaluru|Dining|...|\n|b4d76169-d171-4be...|2025-01-21 17:11:...|    Delhi|   ECom| Electronics|CARD-10519512|2.4700399443058854|           false|  false|         false|      false|Delhi|Electronics...|\n+--------------------+--------------------+---------+-------+------------+-------------+------------------+----------------+-------+--------------+-----------+--------------------+\nonly showing top 5 rows\n"
     ]
    }
   ],
   "source": [
    "silver_df = spark.read.csv(\n",
    "    \"/Volumes/workspace/data/bda_project/silver_data\",\n",
    "    header=True,\n",
    "    inferSchema=True\n",
    ")\n",
    "silver_df.show(5)\n",
    "\n"
   ]
  }
 ],
 "metadata": {
  "application/vnd.databricks.v1+notebook": {
   "computePreferences": null,
   "dashboards": [],
   "environmentMetadata": {
    "base_environment": "",
    "environment_version": "4"
   },
   "inputWidgetPreferences": null,
   "language": "python",
   "notebookMetadata": {
    "pythonIndentUnit": 4
   },
   "notebookName": "load",
   "widgets": {}
  },
  "language_info": {
   "name": "python"
  }
 },
 "nbformat": 4,
 "nbformat_minor": 0
}