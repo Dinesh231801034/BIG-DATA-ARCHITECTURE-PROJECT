{
 "cells": [
  {
   "cell_type": "code",
   "execution_count": 0,
   "metadata": {
    "application/vnd.databricks.v1+cell": {
     "cellMetadata": {
      "byteLimit": 2048000,
      "rowLimit": 10000
     },
     "inputWidgets": {},
     "nuid": "b9b18964-7429-4827-9e67-f98049ab41c2",
     "showTitle": false,
     "tableResultSettingsMap": {
      "1": {
       "dataGridStateBlob": "{\"version\":1,\"tableState\":{\"columnPinning\":{\"left\":[\"#row_number#\"],\"right\":[]},\"columnSizing\":{},\"columnVisibility\":{}},\"settings\":{\"columns\":{}},\"syncTimestamp\":1760463124430}",
       "filterBlob": null,
       "queryPlanFiltersBlob": null,
       "tableResultIndex": 1
      }
     },
     "title": ""
    }
   },
   "outputs": [
    {
     "output_type": "stream",
     "name": "stdout",
     "output_type": "stream",
     "text": [
      "kpi_daily columns: ['event_date', 'txn_count', 'txn_amount_total', 'txn_amount_avg', 'fraud_count', 'unique_cards', 'fraud_rate']\n"
     ]
    },
    {
     "output_type": "stream",
     "name": "stderr",
     "output_type": "stream",
     "text": [
      "/databricks/python/lib/python3.12/site-packages/pyspark/sql/connect/expressions.py:1117: UserWarning: WARN WindowExpression: No Partition Defined for Window operation! Moving all data to a single partition, this can cause serious performance degradation.\n  warnings.warn(\n"
     ]
    },
    {
     "output_type": "display_data",
     "data": {
      "text/html": [
       "<style scoped>\n",
       "  .table-result-container {\n",
       "    max-height: 300px;\n",
       "    overflow: auto;\n",
       "  }\n",
       "  table, th, td {\n",
       "    border: 1px solid black;\n",
       "    border-collapse: collapse;\n",
       "  }\n",
       "  th, td {\n",
       "    padding: 5px;\n",
       "  }\n",
       "  th {\n",
       "    text-align: left;\n",
       "  }\n",
       "</style><div class='table-result-container'><table class='table-result'><thead style='background-color: white'><tr><th>event_date</th><th>txn_count_today</th><th>txn_amount_total</th><th>txn_amount_avg</th><th>fraud_count</th><th>unique_cards</th><th>fraud_rate</th><th>txn_count_7d_sum</th><th>txn_count_7d_avg</th></tr></thead><tbody><tr><td>2025-02-28</td><td>9089.0</td><td>14860.859125251229</td><td>1.635037861728598</td><td>88.0</td><td>9089.0</td><td>0.009682033226977665</td><td>59724.0</td><td>8532.0</td></tr><tr><td>2025-02-27</td><td>9053.0</td><td>15004.107912680742</td><td>1.657363074415193</td><td>91.0</td><td>9052.0</td><td>0.010051916491770684</td><td>59710.0</td><td>8530.0</td></tr><tr><td>2025-02-26</td><td>8937.0</td><td>14898.176386847901</td><td>1.6670220864773304</td><td>88.0</td><td>8936.0</td><td>0.00984670471075305</td><td>59566.0</td><td>8509.42857142857</td></tr><tr><td>2025-02-25</td><td>9108.0</td><td>15271.465140973749</td><td>1.6767089526760814</td><td>84.0</td><td>9108.0</td><td>0.00922266139657444</td><td>59639.0</td><td>8519.857142857143</td></tr><tr><td>2025-02-24</td><td>9136.0</td><td>15342.776243439697</td><td>1.6793756833887585</td><td>81.0</td><td>9136.0</td><td>0.008866024518388792</td><td>59445.0</td><td>8492.142857142857</td></tr><tr><td>2025-02-23</td><td>6792.0</td><td>11329.80733163751</td><td>1.6681106200879727</td><td>53.0</td><td>6792.0</td><td>0.007803297997644287</td><td>59186.0</td><td>8455.142857142857</td></tr><tr><td>2025-02-22</td><td>7609.0</td><td>12543.962981502653</td><td>1.6485691919440995</td><td>61.0</td><td>7609.0</td><td>0.008016822184255487</td><td>59182.0</td><td>8454.57142857143</td></tr><tr><td>2025-02-21</td><td>9075.0</td><td>14987.474984727594</td><td>1.651512395011305</td><td>90.0</td><td>9075.0</td><td>0.009917355371900827</td><td>58947.0</td><td>8421.0</td></tr><tr><td>2025-02-20</td><td>8909.0</td><td>14782.174677492814</td><td>1.6592406193167375</td><td>91.0</td><td>8909.0</td><td>0.010214389942754518</td><td>58786.0</td><td>8398.0</td></tr><tr><td>2025-02-19</td><td>9010.0</td><td>14854.893203007621</td><td>1.6487117872372499</td><td>79.0</td><td>9010.0</td><td>0.00876803551609323</td><td>58846.0</td><td>8406.57142857143</td></tr></tbody></table></div>"
      ]
     },
     "metadata": {
      "application/vnd.databricks.v1+output": {
       "addedWidgets": {},
       "aggData": [],
       "aggError": "",
       "aggOverflow": false,
       "aggSchema": [],
       "aggSeriesLimitReached": false,
       "aggType": "",
       "arguments": {},
       "columnCustomDisplayInfos": {},
       "data": [
        [
         "2025-02-28",
         9089.0,
         14860.859125251229,
         1.635037861728598,
         88.0,
         9089.0,
         0.009682033226977665,
         59724.0,
         8532.0
        ],
        [
         "2025-02-27",
         9053.0,
         15004.107912680742,
         1.657363074415193,
         91.0,
         9052.0,
         0.010051916491770684,
         59710.0,
         8530.0
        ],
        [
         "2025-02-26",
         8937.0,
         14898.176386847901,
         1.6670220864773304,
         88.0,
         8936.0,
         0.00984670471075305,
         59566.0,
         8509.42857142857
        ],
        [
         "2025-02-25",
         9108.0,
         15271.465140973749,
         1.6767089526760814,
         84.0,
         9108.0,
         0.00922266139657444,
         59639.0,
         8519.857142857143
        ],
        [
         "2025-02-24",
         9136.0,
         15342.776243439697,
         1.6793756833887585,
         81.0,
         9136.0,
         0.008866024518388792,
         59445.0,
         8492.142857142857
        ],
        [
         "2025-02-23",
         6792.0,
         11329.80733163751,
         1.6681106200879727,
         53.0,
         6792.0,
         0.007803297997644287,
         59186.0,
         8455.142857142857
        ],
        [
         "2025-02-22",
         7609.0,
         12543.962981502653,
         1.6485691919440995,
         61.0,
         7609.0,
         0.008016822184255487,
         59182.0,
         8454.57142857143
        ],
        [
         "2025-02-21",
         9075.0,
         14987.474984727594,
         1.651512395011305,
         90.0,
         9075.0,
         0.009917355371900827,
         58947.0,
         8421.0
        ],
        [
         "2025-02-20",
         8909.0,
         14782.174677492814,
         1.6592406193167375,
         91.0,
         8909.0,
         0.010214389942754518,
         58786.0,
         8398.0
        ],
        [
         "2025-02-19",
         9010.0,
         14854.893203007621,
         1.6487117872372499,
         79.0,
         9010.0,
         0.00876803551609323,
         58846.0,
         8406.57142857143
        ]
       ],
       "datasetInfos": [],
       "dbfsResultPath": null,
       "isJsonSchema": true,
       "metadata": {},
       "overflow": false,
       "plotOptions": {
        "customPlotOptions": {},
        "displayType": "table",
        "pivotAggregation": null,
        "pivotColumns": null,
        "xColumns": null,
        "yColumns": null
       },
       "removedWidgets": [],
       "schema": [
        {
         "metadata": "{}",
         "name": "event_date",
         "type": "\"date\""
        },
        {
         "metadata": "{}",
         "name": "txn_count_today",
         "type": "\"double\""
        },
        {
         "metadata": "{}",
         "name": "txn_amount_total",
         "type": "\"double\""
        },
        {
         "metadata": "{}",
         "name": "txn_amount_avg",
         "type": "\"double\""
        },
        {
         "metadata": "{}",
         "name": "fraud_count",
         "type": "\"double\""
        },
        {
         "metadata": "{}",
         "name": "unique_cards",
         "type": "\"double\""
        },
        {
         "metadata": "{}",
         "name": "fraud_rate",
         "type": "\"double\""
        },
        {
         "metadata": "{}",
         "name": "txn_count_7d_sum",
         "type": "\"double\""
        },
        {
         "metadata": "{}",
         "name": "txn_count_7d_avg",
         "type": "\"double\""
        }
       ],
       "type": "table"
      }
     },
     "output_type": "display_data"
    },
    {
     "output_type": "stream",
     "name": "stderr",
     "output_type": "stream",
     "text": [
      "/databricks/python/lib/python3.12/site-packages/pyspark/sql/connect/expressions.py:1117: UserWarning: WARN WindowExpression: No Partition Defined for Window operation! Moving all data to a single partition, this can cause serious performance degradation.\n  warnings.warn(\n"
     ]
    },
    {
     "output_type": "stream",
     "name": "stdout",
     "output_type": "stream",
     "text": [
      "Using features: ['txn_count_today', 'txn_amount_total', 'txn_amount_avg', 'fraud_count', 'unique_cards', 'fraud_rate', 'txn_count_7d_sum', 'txn_count_7d_avg']\n"
     ]
    },
    {
     "output_type": "display_data",
     "data": {
      "text/html": [
       "<style scoped>\n",
       "  .table-result-container {\n",
       "    max-height: 300px;\n",
       "    overflow: auto;\n",
       "  }\n",
       "  table, th, td {\n",
       "    border: 1px solid black;\n",
       "    border-collapse: collapse;\n",
       "  }\n",
       "  th, td {\n",
       "    padding: 5px;\n",
       "  }\n",
       "  th {\n",
       "    text-align: left;\n",
       "  }\n",
       "</style><div class='table-result-container'><table class='table-result'><thead style='background-color: white'><tr><th>event_date</th><th>txn_count_next</th><th>txn_up_next_day</th><th>txn_count_today</th><th>txn_amount_total</th><th>txn_amount_avg</th><th>fraud_count</th><th>unique_cards</th><th>fraud_rate</th><th>txn_count_7d_sum</th><th>txn_count_7d_avg</th></tr></thead><tbody><tr><td>2025-02-27</td><td>9089.0</td><td>1</td><td>9053.0</td><td>15004.107912680742</td><td>1.657363074415193</td><td>91.0</td><td>9052.0</td><td>0.010051916491770684</td><td>59710.0</td><td>8530.0</td></tr><tr><td>2025-02-26</td><td>9053.0</td><td>1</td><td>8937.0</td><td>14898.176386847901</td><td>1.6670220864773304</td><td>88.0</td><td>8936.0</td><td>0.00984670471075305</td><td>59566.0</td><td>8509.42857142857</td></tr><tr><td>2025-02-25</td><td>8937.0</td><td>0</td><td>9108.0</td><td>15271.465140973749</td><td>1.6767089526760814</td><td>84.0</td><td>9108.0</td><td>0.00922266139657444</td><td>59639.0</td><td>8519.857142857143</td></tr><tr><td>2025-02-24</td><td>9108.0</td><td>0</td><td>9136.0</td><td>15342.776243439697</td><td>1.6793756833887585</td><td>81.0</td><td>9136.0</td><td>0.008866024518388792</td><td>59445.0</td><td>8492.142857142857</td></tr><tr><td>2025-02-23</td><td>9136.0</td><td>1</td><td>6792.0</td><td>11329.80733163751</td><td>1.6681106200879727</td><td>53.0</td><td>6792.0</td><td>0.007803297997644287</td><td>59186.0</td><td>8455.142857142857</td></tr><tr><td>2025-02-22</td><td>6792.0</td><td>0</td><td>7609.0</td><td>12543.962981502653</td><td>1.6485691919440995</td><td>61.0</td><td>7609.0</td><td>0.008016822184255487</td><td>59182.0</td><td>8454.57142857143</td></tr><tr><td>2025-02-21</td><td>7609.0</td><td>0</td><td>9075.0</td><td>14987.474984727594</td><td>1.651512395011305</td><td>90.0</td><td>9075.0</td><td>0.009917355371900827</td><td>58947.0</td><td>8421.0</td></tr><tr><td>2025-02-20</td><td>9075.0</td><td>1</td><td>8909.0</td><td>14782.174677492814</td><td>1.6592406193167375</td><td>91.0</td><td>8909.0</td><td>0.010214389942754518</td><td>58786.0</td><td>8398.0</td></tr><tr><td>2025-02-19</td><td>8909.0</td><td>0</td><td>9010.0</td><td>14854.893203007621</td><td>1.6487117872372499</td><td>79.0</td><td>9010.0</td><td>0.00876803551609323</td><td>58846.0</td><td>8406.57142857143</td></tr><tr><td>2025-02-18</td><td>9010.0</td><td>1</td><td>8914.0</td><td>14264.37581074541</td><td>1.600221652540432</td><td>77.0</td><td>8914.0</td><td>0.008638097374915863</td><td>58959.0</td><td>8422.714285714286</td></tr></tbody></table></div>"
      ]
     },
     "metadata": {
      "application/vnd.databricks.v1+output": {
       "addedWidgets": {},
       "aggData": [],
       "aggError": "",
       "aggOverflow": false,
       "aggSchema": [],
       "aggSeriesLimitReached": false,
       "aggType": "",
       "arguments": {},
       "columnCustomDisplayInfos": {},
       "data": [
        [
         "2025-02-27",
         9089.0,
         1,
         9053.0,
         15004.107912680742,
         1.657363074415193,
         91.0,
         9052.0,
         0.010051916491770684,
         59710.0,
         8530.0
        ],
        [
         "2025-02-26",
         9053.0,
         1,
         8937.0,
         14898.176386847901,
         1.6670220864773304,
         88.0,
         8936.0,
         0.00984670471075305,
         59566.0,
         8509.42857142857
        ],
        [
         "2025-02-25",
         8937.0,
         0,
         9108.0,
         15271.465140973749,
         1.6767089526760814,
         84.0,
         9108.0,
         0.00922266139657444,
         59639.0,
         8519.857142857143
        ],
        [
         "2025-02-24",
         9108.0,
         0,
         9136.0,
         15342.776243439697,
         1.6793756833887585,
         81.0,
         9136.0,
         0.008866024518388792,
         59445.0,
         8492.142857142857
        ],
        [
         "2025-02-23",
         9136.0,
         1,
         6792.0,
         11329.80733163751,
         1.6681106200879727,
         53.0,
         6792.0,
         0.007803297997644287,
         59186.0,
         8455.142857142857
        ],
        [
         "2025-02-22",
         6792.0,
         0,
         7609.0,
         12543.962981502653,
         1.6485691919440995,
         61.0,
         7609.0,
         0.008016822184255487,
         59182.0,
         8454.57142857143
        ],
        [
         "2025-02-21",
         7609.0,
         0,
         9075.0,
         14987.474984727594,
         1.651512395011305,
         90.0,
         9075.0,
         0.009917355371900827,
         58947.0,
         8421.0
        ],
        [
         "2025-02-20",
         9075.0,
         1,
         8909.0,
         14782.174677492814,
         1.6592406193167375,
         91.0,
         8909.0,
         0.010214389942754518,
         58786.0,
         8398.0
        ],
        [
         "2025-02-19",
         8909.0,
         0,
         9010.0,
         14854.893203007621,
         1.6487117872372499,
         79.0,
         9010.0,
         0.00876803551609323,
         58846.0,
         8406.57142857143
        ],
        [
         "2025-02-18",
         9010.0,
         1,
         8914.0,
         14264.37581074541,
         1.600221652540432,
         77.0,
         8914.0,
         0.008638097374915863,
         58959.0,
         8422.714285714286
        ]
       ],
       "datasetInfos": [],
       "dbfsResultPath": null,
       "isJsonSchema": true,
       "metadata": {},
       "overflow": false,
       "plotOptions": {
        "customPlotOptions": {},
        "displayType": "table",
        "pivotAggregation": null,
        "pivotColumns": null,
        "xColumns": null,
        "yColumns": null
       },
       "removedWidgets": [],
       "schema": [
        {
         "metadata": "{}",
         "name": "event_date",
         "type": "\"date\""
        },
        {
         "metadata": "{}",
         "name": "txn_count_next",
         "type": "\"double\""
        },
        {
         "metadata": "{}",
         "name": "txn_up_next_day",
         "type": "\"integer\""
        },
        {
         "metadata": "{}",
         "name": "txn_count_today",
         "type": "\"double\""
        },
        {
         "metadata": "{}",
         "name": "txn_amount_total",
         "type": "\"double\""
        },
        {
         "metadata": "{}",
         "name": "txn_amount_avg",
         "type": "\"double\""
        },
        {
         "metadata": "{}",
         "name": "fraud_count",
         "type": "\"double\""
        },
        {
         "metadata": "{}",
         "name": "unique_cards",
         "type": "\"double\""
        },
        {
         "metadata": "{}",
         "name": "fraud_rate",
         "type": "\"double\""
        },
        {
         "metadata": "{}",
         "name": "txn_count_7d_sum",
         "type": "\"double\""
        },
        {
         "metadata": "{}",
         "name": "txn_count_7d_avg",
         "type": "\"double\""
        }
       ],
       "type": "table"
      }
     },
     "output_type": "display_data"
    },
    {
     "output_type": "stream",
     "name": "stdout",
     "output_type": "stream",
     "text": [
      "Date range: 2025-01-01 -> 2025-02-27, total_days=58, split_date=2025-02-16\nTrain rows: 47  Test rows: 11\nAUC (ROC): 1.0000\nAccuracy: 0.9787\n"
     ]
    },
    {
     "output_type": "display_data",
     "data": {
      "text/html": [
       "<style scoped>\n",
       "  .table-result-container {\n",
       "    max-height: 300px;\n",
       "    overflow: auto;\n",
       "  }\n",
       "  table, th, td {\n",
       "    border: 1px solid black;\n",
       "    border-collapse: collapse;\n",
       "  }\n",
       "  th, td {\n",
       "    padding: 5px;\n",
       "  }\n",
       "  th {\n",
       "    text-align: left;\n",
       "  }\n",
       "</style><div class='table-result-container'><table class='table-result'><thead style='background-color: white'><tr><th>txn_up_next_day</th><th>prediction</th><th>count</th></tr></thead><tbody><tr><td>0</td><td>0.0</td><td>27</td></tr><tr><td>1</td><td>0.0</td><td>1</td></tr><tr><td>1</td><td>1.0</td><td>19</td></tr></tbody></table></div>"
      ]
     },
     "metadata": {
      "application/vnd.databricks.v1+output": {
       "addedWidgets": {},
       "aggData": [],
       "aggError": "",
       "aggOverflow": false,
       "aggSchema": [],
       "aggSeriesLimitReached": false,
       "aggType": "",
       "arguments": {},
       "columnCustomDisplayInfos": {},
       "data": [
        [
         0,
         0.0,
         27
        ],
        [
         1,
         0.0,
         1
        ],
        [
         1,
         1.0,
         19
        ]
       ],
       "datasetInfos": [],
       "dbfsResultPath": null,
       "isJsonSchema": true,
       "metadata": {},
       "overflow": false,
       "plotOptions": {
        "customPlotOptions": {},
        "displayType": "table",
        "pivotAggregation": null,
        "pivotColumns": null,
        "xColumns": null,
        "yColumns": null
       },
       "removedWidgets": [],
       "schema": [
        {
         "metadata": "{}",
         "name": "txn_up_next_day",
         "type": "\"integer\""
        },
        {
         "metadata": "{\"ml_attr\": {\"num_vals\": 2, \"type\": \"nominal\"}}",
         "name": "prediction",
         "type": "\"double\""
        },
        {
         "metadata": "{}",
         "name": "count",
         "type": "\"long\""
        }
       ],
       "type": "table"
      }
     },
     "output_type": "display_data"
    },
    {
     "output_type": "stream",
     "name": "stdout",
     "output_type": "stream",
     "text": [
      "Feature importances (descending):\ntxn_count_today: 0.1931\ntxn_amount_total: 0.1490\nunique_cards: 0.1319\ntxn_amount_avg: 0.1232\ntxn_count_7d_avg: 0.1182\nfraud_rate: 0.1071\nfraud_count: 0.1049\ntxn_count_7d_sum: 0.0726\nPredictions written to: /Volumes/workspace/data/bda_project/gold/ml/kpi_model_predictions_fixed2\nModel saved to: /Volumes/workspace/data/bda_project/gold/models/kpi_rf_model_fixed2\n"
     ]
    },
    {
     "output_type": "display_data",
     "data": {
      "text/html": [
       "<style scoped>\n",
       "  .table-result-container {\n",
       "    max-height: 300px;\n",
       "    overflow: auto;\n",
       "  }\n",
       "  table, th, td {\n",
       "    border: 1px solid black;\n",
       "    border-collapse: collapse;\n",
       "  }\n",
       "  th, td {\n",
       "    padding: 5px;\n",
       "  }\n",
       "  th {\n",
       "    text-align: left;\n",
       "  }\n",
       "</style><div class='table-result-container'><table class='table-result'><thead style='background-color: white'><tr><th>event_date</th><th>txn_count_today</th><th>txn_count_next</th><th>txn_up_next_day</th><th>prediction</th><th>probability</th><th>_pred_ts</th><th>_model_version</th></tr></thead><tbody><tr><td>2025-02-16</td><td>6788.0</td><td>8877.0</td><td>1</td><td>1.0</td><td>{\"type\":\"1\",\"size\":null,\"indices\":null,\"values\":[\"0.04\",\"0.96\"]}</td><td>2025-10-16T03:47:14.536Z</td><td>rf_kpi_v2_fixed</td></tr><tr><td>2025-02-15</td><td>7374.0</td><td>6788.0</td><td>0</td><td>0.0</td><td>{\"type\":\"1\",\"size\":null,\"indices\":null,\"values\":[\"0.7382208393458394\",\"0.2617791606541606\"]}</td><td>2025-10-16T03:47:14.536Z</td><td>rf_kpi_v2_fixed</td></tr><tr><td>2025-02-14</td><td>8914.0</td><td>7374.0</td><td>0</td><td>0.0</td><td>{\"type\":\"1\",\"size\":null,\"indices\":null,\"values\":[\"0.804105093532513\",\"0.19589490646748703\"]}</td><td>2025-10-16T03:47:14.536Z</td><td>rf_kpi_v2_fixed</td></tr><tr><td>2025-02-13</td><td>8969.0</td><td>8914.0</td><td>0</td><td>0.0</td><td>{\"type\":\"1\",\"size\":null,\"indices\":null,\"values\":[\"0.780221976649396\",\"0.219778023350604\"]}</td><td>2025-10-16T03:47:14.536Z</td><td>rf_kpi_v2_fixed</td></tr><tr><td>2025-02-12</td><td>9123.0</td><td>8969.0</td><td>0</td><td>0.0</td><td>{\"type\":\"1\",\"size\":null,\"indices\":null,\"values\":[\"0.8686180204204398\",\"0.13138197957956022\"]}</td><td>2025-10-16T03:47:14.536Z</td><td>rf_kpi_v2_fixed</td></tr><tr><td>2025-02-11</td><td>9021.0</td><td>9123.0</td><td>1</td><td>1.0</td><td>{\"type\":\"1\",\"size\":null,\"indices\":null,\"values\":[\"0.25234638047138047\",\"0.7476536195286195\"]}</td><td>2025-10-16T03:47:14.536Z</td><td>rf_kpi_v2_fixed</td></tr><tr><td>2025-02-10</td><td>8985.0</td><td>9021.0</td><td>1</td><td>1.0</td><td>{\"type\":\"1\",\"size\":null,\"indices\":null,\"values\":[\"0.35788287131029073\",\"0.6421171286897093\"]}</td><td>2025-10-16T03:47:14.536Z</td><td>rf_kpi_v2_fixed</td></tr><tr><td>2025-02-09</td><td>6873.0</td><td>8985.0</td><td>1</td><td>1.0</td><td>{\"type\":\"1\",\"size\":null,\"indices\":null,\"values\":[\"0.2735235732009926\",\"0.7264764267990074\"]}</td><td>2025-10-16T03:47:14.536Z</td><td>rf_kpi_v2_fixed</td></tr><tr><td>2025-02-08</td><td>7587.0</td><td>6873.0</td><td>0</td><td>0.0</td><td>{\"type\":\"1\",\"size\":null,\"indices\":null,\"values\":[\"0.928119412546832\",\"0.07188058745316814\"]}</td><td>2025-10-16T03:47:14.536Z</td><td>rf_kpi_v2_fixed</td></tr><tr><td>2025-02-07</td><td>8762.0</td><td>7587.0</td><td>0</td><td>0.0</td><td>{\"type\":\"1\",\"size\":null,\"indices\":null,\"values\":[\"0.8472598554372748\",\"0.1527401445627252\"]}</td><td>2025-10-16T03:47:14.536Z</td><td>rf_kpi_v2_fixed</td></tr><tr><td>2025-02-06</td><td>8885.0</td><td>8762.0</td><td>0</td><td>0.0</td><td>{\"type\":\"1\",\"size\":null,\"indices\":null,\"values\":[\"0.9192027458801653\",\"0.08079725411983478\"]}</td><td>2025-10-16T03:47:14.536Z</td><td>rf_kpi_v2_fixed</td></tr><tr><td>2025-02-05</td><td>9094.0</td><td>8885.0</td><td>0</td><td>0.0</td><td>{\"type\":\"1\",\"size\":null,\"indices\":null,\"values\":[\"0.9314725177749371\",\"0.06852748222506289\"]}</td><td>2025-10-16T03:47:14.536Z</td><td>rf_kpi_v2_fixed</td></tr><tr><td>2025-02-04</td><td>9074.0</td><td>9094.0</td><td>1</td><td>1.0</td><td>{\"type\":\"1\",\"size\":null,\"indices\":null,\"values\":[\"0.21099560117302055\",\"0.7890043988269795\"]}</td><td>2025-10-16T03:47:14.536Z</td><td>rf_kpi_v2_fixed</td></tr><tr><td>2025-02-03</td><td>9031.0</td><td>9074.0</td><td>1</td><td>1.0</td><td>{\"type\":\"1\",\"size\":null,\"indices\":null,\"values\":[\"0.30894836182336183\",\"0.6910516381766382\"]}</td><td>2025-10-16T03:47:14.536Z</td><td>rf_kpi_v2_fixed</td></tr><tr><td>2025-02-02</td><td>6710.0</td><td>9031.0</td><td>1</td><td>1.0</td><td>{\"type\":\"1\",\"size\":null,\"indices\":null,\"values\":[\"0.1183440860215054\",\"0.8816559139784946\"]}</td><td>2025-10-16T03:47:14.536Z</td><td>rf_kpi_v2_fixed</td></tr><tr><td>2025-02-01</td><td>7474.0</td><td>6710.0</td><td>0</td><td>0.0</td><td>{\"type\":\"1\",\"size\":null,\"indices\":null,\"values\":[\"0.8319299635549636\",\"0.16807003644503646\"]}</td><td>2025-10-16T03:47:14.536Z</td><td>rf_kpi_v2_fixed</td></tr><tr><td>2025-01-31</td><td>8985.0</td><td>7474.0</td><td>0</td><td>0.0</td><td>{\"type\":\"1\",\"size\":null,\"indices\":null,\"values\":[\"0.7386884268658462\",\"0.2613115731341537\"]}</td><td>2025-10-16T03:47:14.536Z</td><td>rf_kpi_v2_fixed</td></tr><tr><td>2025-01-30</td><td>9206.0</td><td>8985.0</td><td>0</td><td>0.0</td><td>{\"type\":\"1\",\"size\":null,\"indices\":null,\"values\":[\"0.8175818251342446\",\"0.18241817486575548\"]}</td><td>2025-10-16T03:47:14.536Z</td><td>rf_kpi_v2_fixed</td></tr><tr><td>2025-01-29</td><td>8884.0</td><td>9206.0</td><td>1</td><td>1.0</td><td>{\"type\":\"1\",\"size\":null,\"indices\":null,\"values\":[\"0.2134704184704185\",\"0.7865295815295814\"]}</td><td>2025-10-16T03:47:14.536Z</td><td>rf_kpi_v2_fixed</td></tr><tr><td>2025-01-28</td><td>9026.0</td><td>8884.0</td><td>0</td><td>0.0</td><td>{\"type\":\"1\",\"size\":null,\"indices\":null,\"values\":[\"0.8652549251823446\",\"0.13474507481765544\"]}</td><td>2025-10-16T03:47:14.536Z</td><td>rf_kpi_v2_fixed</td></tr></tbody></table></div>"
      ]
     },
     "metadata": {
      "application/vnd.databricks.v1+output": {
       "addedWidgets": {},
       "aggData": [],
       "aggError": "",
       "aggOverflow": false,
       "aggSchema": [],
       "aggSeriesLimitReached": false,
       "aggType": "",
       "arguments": {},
       "columnCustomDisplayInfos": {},
       "data": [
        [
         "2025-02-16",
         6788.0,
         8877.0,
         1,
         1.0,
         "{\"type\":\"1\",\"size\":null,\"indices\":null,\"values\":[\"0.04\",\"0.96\"]}",
         "2025-10-16T03:47:14.536Z",
         "rf_kpi_v2_fixed"
        ],
        [
         "2025-02-15",
         7374.0,
         6788.0,
         0,
         0.0,
         "{\"type\":\"1\",\"size\":null,\"indices\":null,\"values\":[\"0.7382208393458394\",\"0.2617791606541606\"]}",
         "2025-10-16T03:47:14.536Z",
         "rf_kpi_v2_fixed"
        ],
        [
         "2025-02-14",
         8914.0,
         7374.0,
         0,
         0.0,
         "{\"type\":\"1\",\"size\":null,\"indices\":null,\"values\":[\"0.804105093532513\",\"0.19589490646748703\"]}",
         "2025-10-16T03:47:14.536Z",
         "rf_kpi_v2_fixed"
        ],
        [
         "2025-02-13",
         8969.0,
         8914.0,
         0,
         0.0,
         "{\"type\":\"1\",\"size\":null,\"indices\":null,\"values\":[\"0.780221976649396\",\"0.219778023350604\"]}",
         "2025-10-16T03:47:14.536Z",
         "rf_kpi_v2_fixed"
        ],
        [
         "2025-02-12",
         9123.0,
         8969.0,
         0,
         0.0,
         "{\"type\":\"1\",\"size\":null,\"indices\":null,\"values\":[\"0.8686180204204398\",\"0.13138197957956022\"]}",
         "2025-10-16T03:47:14.536Z",
         "rf_kpi_v2_fixed"
        ],
        [
         "2025-02-11",
         9021.0,
         9123.0,
         1,
         1.0,
         "{\"type\":\"1\",\"size\":null,\"indices\":null,\"values\":[\"0.25234638047138047\",\"0.7476536195286195\"]}",
         "2025-10-16T03:47:14.536Z",
         "rf_kpi_v2_fixed"
        ],
        [
         "2025-02-10",
         8985.0,
         9021.0,
         1,
         1.0,
         "{\"type\":\"1\",\"size\":null,\"indices\":null,\"values\":[\"0.35788287131029073\",\"0.6421171286897093\"]}",
         "2025-10-16T03:47:14.536Z",
         "rf_kpi_v2_fixed"
        ],
        [
         "2025-02-09",
         6873.0,
         8985.0,
         1,
         1.0,
         "{\"type\":\"1\",\"size\":null,\"indices\":null,\"values\":[\"0.2735235732009926\",\"0.7264764267990074\"]}",
         "2025-10-16T03:47:14.536Z",
         "rf_kpi_v2_fixed"
        ],
        [
         "2025-02-08",
         7587.0,
         6873.0,
         0,
         0.0,
         "{\"type\":\"1\",\"size\":null,\"indices\":null,\"values\":[\"0.928119412546832\",\"0.07188058745316814\"]}",
         "2025-10-16T03:47:14.536Z",
         "rf_kpi_v2_fixed"
        ],
        [
         "2025-02-07",
         8762.0,
         7587.0,
         0,
         0.0,
         "{\"type\":\"1\",\"size\":null,\"indices\":null,\"values\":[\"0.8472598554372748\",\"0.1527401445627252\"]}",
         "2025-10-16T03:47:14.536Z",
         "rf_kpi_v2_fixed"
        ],
        [
         "2025-02-06",
         8885.0,
         8762.0,
         0,
         0.0,
         "{\"type\":\"1\",\"size\":null,\"indices\":null,\"values\":[\"0.9192027458801653\",\"0.08079725411983478\"]}",
         "2025-10-16T03:47:14.536Z",
         "rf_kpi_v2_fixed"
        ],
        [
         "2025-02-05",
         9094.0,
         8885.0,
         0,
         0.0,
         "{\"type\":\"1\",\"size\":null,\"indices\":null,\"values\":[\"0.9314725177749371\",\"0.06852748222506289\"]}",
         "2025-10-16T03:47:14.536Z",
         "rf_kpi_v2_fixed"
        ],
        [
         "2025-02-04",
         9074.0,
         9094.0,
         1,
         1.0,
         "{\"type\":\"1\",\"size\":null,\"indices\":null,\"values\":[\"0.21099560117302055\",\"0.7890043988269795\"]}",
         "2025-10-16T03:47:14.536Z",
         "rf_kpi_v2_fixed"
        ],
        [
         "2025-02-03",
         9031.0,
         9074.0,
         1,
         1.0,
         "{\"type\":\"1\",\"size\":null,\"indices\":null,\"values\":[\"0.30894836182336183\",\"0.6910516381766382\"]}",
         "2025-10-16T03:47:14.536Z",
         "rf_kpi_v2_fixed"
        ],
        [
         "2025-02-02",
         6710.0,
         9031.0,
         1,
         1.0,
         "{\"type\":\"1\",\"size\":null,\"indices\":null,\"values\":[\"0.1183440860215054\",\"0.8816559139784946\"]}",
         "2025-10-16T03:47:14.536Z",
         "rf_kpi_v2_fixed"
        ],
        [
         "2025-02-01",
         7474.0,
         6710.0,
         0,
         0.0,
         "{\"type\":\"1\",\"size\":null,\"indices\":null,\"values\":[\"0.8319299635549636\",\"0.16807003644503646\"]}",
         "2025-10-16T03:47:14.536Z",
         "rf_kpi_v2_fixed"
        ],
        [
         "2025-01-31",
         8985.0,
         7474.0,
         0,
         0.0,
         "{\"type\":\"1\",\"size\":null,\"indices\":null,\"values\":[\"0.7386884268658462\",\"0.2613115731341537\"]}",
         "2025-10-16T03:47:14.536Z",
         "rf_kpi_v2_fixed"
        ],
        [
         "2025-01-30",
         9206.0,
         8985.0,
         0,
         0.0,
         "{\"type\":\"1\",\"size\":null,\"indices\":null,\"values\":[\"0.8175818251342446\",\"0.18241817486575548\"]}",
         "2025-10-16T03:47:14.536Z",
         "rf_kpi_v2_fixed"
        ],
        [
         "2025-01-29",
         8884.0,
         9206.0,
         1,
         1.0,
         "{\"type\":\"1\",\"size\":null,\"indices\":null,\"values\":[\"0.2134704184704185\",\"0.7865295815295814\"]}",
         "2025-10-16T03:47:14.536Z",
         "rf_kpi_v2_fixed"
        ],
        [
         "2025-01-28",
         9026.0,
         8884.0,
         0,
         0.0,
         "{\"type\":\"1\",\"size\":null,\"indices\":null,\"values\":[\"0.8652549251823446\",\"0.13474507481765544\"]}",
         "2025-10-16T03:47:14.536Z",
         "rf_kpi_v2_fixed"
        ]
       ],
       "datasetInfos": [],
       "dbfsResultPath": null,
       "isJsonSchema": true,
       "metadata": {},
       "overflow": false,
       "plotOptions": {
        "customPlotOptions": {},
        "displayType": "table",
        "pivotAggregation": null,
        "pivotColumns": null,
        "xColumns": null,
        "yColumns": null
       },
       "removedWidgets": [],
       "schema": [
        {
         "metadata": "{}",
         "name": "event_date",
         "type": "\"date\""
        },
        {
         "metadata": "{}",
         "name": "txn_count_today",
         "type": "\"double\""
        },
        {
         "metadata": "{}",
         "name": "txn_count_next",
         "type": "\"double\""
        },
        {
         "metadata": "{}",
         "name": "txn_up_next_day",
         "type": "\"integer\""
        },
        {
         "metadata": "{\"ml_attr\": {\"num_vals\": 2, \"type\": \"nominal\"}}",
         "name": "prediction",
         "type": "\"double\""
        },
        {
         "metadata": "{\"ml_attr\": {\"num_attrs\": 2}}",
         "name": "probability",
         "type": "{\"class\":\"org.apache.spark.ml.linalg.VectorUDT\",\"pyClass\":\"pyspark.ml.linalg.VectorUDT\",\"sqlType\":{\"fields\":[{\"metadata\":{},\"name\":\"type\",\"nullable\":false,\"type\":\"byte\"},{\"metadata\":{},\"name\":\"size\",\"nullable\":true,\"type\":\"integer\"},{\"metadata\":{},\"name\":\"indices\",\"nullable\":true,\"type\":{\"containsNull\":false,\"elementType\":\"integer\",\"type\":\"array\"}},{\"metadata\":{},\"name\":\"values\",\"nullable\":true,\"type\":{\"containsNull\":false,\"elementType\":\"double\",\"type\":\"array\"}}],\"type\":\"struct\"},\"type\":\"udt\"}"
        },
        {
         "metadata": "{}",
         "name": "_pred_ts",
         "type": "\"timestamp\""
        },
        {
         "metadata": "{}",
         "name": "_model_version",
         "type": "\"string\""
        }
       ],
       "type": "table"
      }
     },
     "output_type": "display_data"
    },
    {
     "output_type": "stream",
     "name": "stdout",
     "output_type": "stream",
     "text": [
      "\nDONE.\nTips to improve model:\n - Add lag features (txn_count_lag1, txn_count_lag7, percent_change).\n - Add merchant-level or city-level KPIs as extra features.\n - Add market sentiment if available for better performance.\n - If performance low: hyperparameter tuning (CrossValidator) or time-series models.\n"
     ]
    }
   ],
   "source": [
    "\n",
    "from pyspark.sql import functions as F\n",
    "from pyspark.sql.window import Window\n",
    "from pyspark.sql.types import IntegerType, DoubleType\n",
    "from pyspark.ml import Pipeline\n",
    "from pyspark.ml.feature import VectorAssembler, StandardScaler\n",
    "from pyspark.ml.classification import RandomForestClassifier\n",
    "from pyspark.ml.evaluation import BinaryClassificationEvaluator, MulticlassClassificationEvaluator\n",
    "import datetime\n",
    "\n",
    "gold_base = \"/Volumes/workspace/data/bda_project/gold\"   # base used earlier\n",
    "kpi_daily_path = f\"{gold_base}/kpi_daily\"                # delta location \n",
    "output_predictions_path = f\"{gold_base}/ml/kpi_model_predictions_fixed2\"\n",
    "model_output_path = f\"{gold_base}/models/kpi_rf_model_fixed2\"\n",
    "database = \"data\"\n",
    "\n",
    "# 1) Read KPI daily table (Delta)\n",
    "kpi_daily = spark.read.format(\"delta\").load(kpi_daily_path)\n",
    "print(\"kpi_daily columns:\", kpi_daily.columns)\n",
    "\n",
    "# 2) Ensure event_date exists and is date-typed\n",
    "if \"event_date\" not in kpi_daily.columns:\n",
    "    if \"date\" in kpi_daily.columns:\n",
    "        kpi_daily = kpi_daily.withColumnRenamed(\"date\",\"event_date\")\n",
    "    elif \"event_time\" in kpi_daily.columns:\n",
    "        kpi_daily = kpi_daily.withColumn(\"event_date\", F.to_date(\"event_time\"))\n",
    "    else:\n",
    "        raise ValueError(\"kpi_daily has no event_date, date, or event_time column. Add a date column.\")\n",
    "\n",
    "kpi_daily = kpi_daily.withColumn(\"event_date\", F.to_date(\"event_date\"))\n",
    "\n",
    "\n",
    "rename_map = {}\n",
    "if \"txn_count\" in kpi_daily.columns:\n",
    "    kpi_daily = kpi_daily.withColumnRenamed(\"txn_count\", \"txn_count_today\")\n",
    "    rename_map[\"txn_count\"] = \"txn_count_today\"\n",
    "\n",
    "for col in [\"txn_count_today\", \"txn_amount_total\", \"txn_amount_avg\", \"fraud_count\", \"unique_cards\", \"fraud_rate\"]:\n",
    "    if col in kpi_daily.columns:\n",
    "        kpi_daily = kpi_daily.withColumn(col, F.col(col).cast(DoubleType()))\n",
    "\n",
    "\n",
    "w7 = Window.orderBy(F.col(\"event_date\").cast(\"timestamp\")).rowsBetween(-6, 0)\n",
    "\n",
    "kpi_daily_with_7d = kpi_daily \\\n",
    "    .withColumn(\"txn_count_7d_sum\", F.sum(\"txn_count_today\").over(w7)) \\\n",
    "    .withColumn(\"txn_count_7d_avg\", F.avg(\"txn_count_today\").over(w7))\n",
    "\n",
    "\n",
    "kpi_daily_with_7d = kpi_daily_with_7d.fillna({\"txn_count_7d_sum\":0.0, \"txn_count_7d_avg\":0.0})\n",
    "\n",
    "display(kpi_daily_with_7d.orderBy(F.desc(\"event_date\")).limit(10))\n",
    "\n",
    "\n",
    "kpi_daily_with_7d = kpi_daily_with_7d.repartition(200, F.col(\"event_date\"))\n",
    "\n",
    "\n",
    "w_global = Window.orderBy(F.col(\"event_date\").cast(\"timestamp\"))\n",
    "kpi_daily_with_7d = kpi_daily_with_7d.withColumn(\"txn_count_next\", F.lead(\"txn_count_today\", 1).over(w_global))\n",
    "\n",
    "\n",
    "kpi_daily_with_7d = kpi_daily_with_7d.withColumn(\n",
    "    \"txn_up_next_day\",\n",
    "    F.when(F.col(\"txn_count_next\") > F.col(\"txn_count_today\"), 1).otherwise(0).cast(IntegerType())\n",
    ")\n",
    "\n",
    "\n",
    "df = kpi_daily_with_7d.filter(F.col(\"txn_count_next\").isNotNull())\n",
    "\n",
    "\n",
    "candidate_features = [\n",
    "    \"txn_count_today\", \"txn_amount_total\", \"txn_amount_avg\", \"fraud_count\", \"unique_cards\", \"fraud_rate\",\n",
    "    \"txn_count_7d_sum\", \"txn_count_7d_avg\"\n",
    "]\n",
    "features = [c for c in candidate_features if c in df.columns]\n",
    "if not features:\n",
    "    raise ValueError(f\"No feature columns found from candidates. Available columns: {df.columns}\")\n",
    "\n",
    "print(\"Using features:\", features)\n",
    "\n",
    "\n",
    "selected_cols = [\"event_date\", \"txn_count_next\", \"txn_up_next_day\"] + features\n",
    "selected_cols = list(dict.fromkeys(selected_cols))  \n",
    "final_df = df.select(selected_cols).na.drop()\n",
    "\n",
    "\n",
    "for f in features:\n",
    "    final_df = final_df.withColumn(f, F.col(f).cast(DoubleType()))\n",
    "\n",
    "display(final_df.orderBy(F.desc(\"event_date\")).limit(10))\n",
    "\n",
    "\n",
    "min_max = final_df.select(F.min(\"event_date\").alias(\"min_d\"), F.max(\"event_date\").alias(\"max_d\")).collect()[0]\n",
    "min_d = min_max[\"min_d\"]\n",
    "max_d = min_max[\"max_d\"]\n",
    "if min_d is None or max_d is None:\n",
    "    raise ValueError(\"No dates found in dataset\")\n",
    "\n",
    "total_days = (max_d - min_d).days + 1\n",
    "train_days = int(total_days * 0.8)\n",
    "split_date = (min_d + datetime.timedelta(days=train_days))\n",
    "\n",
    "print(f\"Date range: {min_d} -> {max_d}, total_days={total_days}, split_date={split_date}\")\n",
    "\n",
    "train_df = final_df.filter(F.col(\"event_date\") <= F.lit(split_date))\n",
    "test_df = final_df.filter(F.col(\"event_date\") > F.lit(split_date))\n",
    "\n",
    "print(\"Train rows:\", train_df.count(), \" Test rows:\", test_df.count())\n",
    "\n",
    "\n",
    "assembler = VectorAssembler(inputCols=features, outputCol=\"features_raw\", handleInvalid=\"skip\")\n",
    "scaler = StandardScaler(inputCol=\"features_raw\", outputCol=\"features\", withStd=True, withMean=False)\n",
    "rf = RandomForestClassifier(featuresCol=\"features\", labelCol=\"txn_up_next_day\",\n",
    "                            probabilityCol=\"probability\", rawPredictionCol=\"rawPrediction\",\n",
    "                            predictionCol=\"prediction\", numTrees=100, maxDepth=6, seed=42)\n",
    "\n",
    "pipeline = Pipeline(stages=[assembler, scaler, rf])\n",
    "\n",
    "\n",
    "model = pipeline.fit(train_df)\n",
    "\n",
    "\n",
    "preds = model.transform(train_df)\n",
    "\n",
    "\n",
    "bce = BinaryClassificationEvaluator(labelCol=\"txn_up_next_day\", rawPredictionCol=\"rawPrediction\", metricName=\"areaUnderROC\")\n",
    "auc = bce.evaluate(preds)\n",
    "multi_eval = MulticlassClassificationEvaluator(labelCol=\"txn_up_next_day\", predictionCol=\"prediction\", metricName=\"accuracy\")\n",
    "accuracy = multi_eval.evaluate(preds)\n",
    "\n",
    "print(f\"AUC (ROC): {auc:.4f}\")\n",
    "print(f\"Accuracy: {accuracy:.4f}\")\n",
    "\n",
    "\n",
    "conf = preds.groupBy(\"txn_up_next_day\", \"prediction\").count().orderBy(\"txn_up_next_day\", \"prediction\")\n",
    "display(conf)\n",
    "\n",
    "\n",
    "rf_stage = model.stages[-1]\n",
    "importances = rf_stage.featureImportances.toArray().tolist()\n",
    "feat_imp = list(zip(features, importances))\n",
    "feat_imp_sorted = sorted(feat_imp, key=lambda x: x[1], reverse=True)\n",
    "print(\"Feature importances (descending):\")\n",
    "for f, imp in feat_imp_sorted:\n",
    "    print(f\"{f}: {imp:.4f}\")\n",
    "\n",
    "\n",
    "preds_to_save = preds.select(\n",
    "    \"event_date\",\n",
    "    F.col(\"txn_count_today\").alias(\"txn_count_today\"),\n",
    "    \"txn_count_next\",\n",
    "    \"txn_up_next_day\",\n",
    "    \"prediction\",\n",
    "    \"probability\"\n",
    ").withColumn(\"_pred_ts\", F.current_timestamp()).withColumn(\"_model_version\", F.lit(\"rf_kpi_v2_fixed\"))\n",
    "\n",
    "\n",
    "try:\n",
    "    dbutils.fs.rm(output_predictions_path, recurse=True)\n",
    "except Exception:\n",
    "    pass\n",
    "preds_to_save.write.format(\"delta\").mode(\"overwrite\").option(\"overwriteSchema\",\"true\").save(output_predictions_path)\n",
    "print(\"Predictions written to:\", output_predictions_path)\n",
    "\n",
    "\n",
    "try:\n",
    "    dbutils.fs.rm(model_output_path, recurse=True)\n",
    "except Exception:\n",
    "    pass\n",
    "model.write().overwrite().save(model_output_path)\n",
    "print(\"Model saved to:\", model_output_path)\n",
    "\n",
    "\n",
    "display(preds_to_save.orderBy(F.desc(\"event_date\")).limit(20))\n",
    "\n",
    "\n",
    "print(\"\\nDONE.\")\n",
    "print(\"Tips to improve model:\")\n",
    "print(\" - Add lag features (txn_count_lag1, txn_count_lag7, percent_change).\")\n",
    "print(\" - Add merchant-level or city-level KPIs as extra features.\")\n",
    "print(\" - Add market sentiment if available for better performance.\")\n",
    "print(\" - If performance low: hyperparameter tuning (CrossValidator) or time-series models.\")\n"
   ]
  }
 ],
 "metadata": {
  "application/vnd.databricks.v1+notebook": {
   "computePreferences": null,
   "dashboards": [],
   "environmentMetadata": {
    "base_environment": "",
    "environment_version": "4"
   },
   "inputWidgetPreferences": null,
   "language": "python",
   "notebookMetadata": {
    "pythonIndentUnit": 4
   },
   "notebookName": "train",
   "widgets": {}
  },
  "language_info": {
   "name": "python"
  }
 },
 "nbformat": 4,
 "nbformat_minor": 0
}